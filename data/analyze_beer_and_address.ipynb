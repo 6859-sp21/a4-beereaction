{
  "nbformat": 4,
  "nbformat_minor": 0,
  "metadata": {
    "kernelspec": {
      "display_name": "Python 3",
      "language": "python",
      "name": "python3"
    },
    "language_info": {
      "codemirror_mode": {
        "name": "ipython",
        "version": 3
      },
      "file_extension": ".py",
      "mimetype": "text/x-python",
      "name": "python",
      "nbconvert_exporter": "python",
      "pygments_lexer": "ipython3",
      "version": "3.8.5"
    },
    "colab": {
      "name": "analyze_beer_and_address.ipynb",
      "provenance": [],
      "collapsed_sections": [],
      "toc_visible": true
    }
  },
  "cells": [
    {
      "cell_type": "markdown",
      "metadata": {
        "id": "dUG_p6922_Og"
      },
      "source": [
        "# Final Project: Data Cleaning"
      ]
    },
    {
      "cell_type": "markdown",
      "metadata": {
        "id": "OEUGVciZ2_Ot"
      },
      "source": [
        "## Importing Libraries"
      ]
    },
    {
      "cell_type": "code",
      "metadata": {
        "id": "FpJiiK1a2_Ou"
      },
      "source": [
        "import numpy as np\n",
        "import pandas as pd\n",
        "import matplotlib.pyplot as plt\n",
        "import seaborn as sns\n",
        "\n",
        "from datetime import *\n",
        "import calendar\n",
        "from tqdm import tqdm_notebook as tqdm"
      ],
      "execution_count": 92,
      "outputs": []
    },
    {
      "cell_type": "code",
      "metadata": {
        "colab": {
          "base_uri": "https://localhost:8080/"
        },
        "id": "AJMjO36B3XJH",
        "outputId": "cce818d4-b87c-4d43-b836-5af68b8f2c36"
      },
      "source": [
        "from google.colab import drive \n",
        "drive.mount(\"/content/drive\")"
      ],
      "execution_count": 93,
      "outputs": [
        {
          "output_type": "stream",
          "text": [
            "Drive already mounted at /content/drive; to attempt to forcibly remount, call drive.mount(\"/content/drive\", force_remount=True).\n"
          ],
          "name": "stdout"
        }
      ]
    },
    {
      "cell_type": "code",
      "metadata": {
        "id": "wyWopfBiC6AL"
      },
      "source": [
        "def pretty(d, indent=0):\n",
        "   for key, value in d.items():\n",
        "      print('\\t' * indent + str(key))\n",
        "      if isinstance(value, dict):\n",
        "         pretty(value, indent+1)\n",
        "      else:\n",
        "         print('\\t' * (indent+1) + str(value))"
      ],
      "execution_count": 94,
      "outputs": []
    },
    {
      "cell_type": "markdown",
      "metadata": {
        "id": "w5hXQ97j2_Ow"
      },
      "source": [
        "## Importing Datasets"
      ]
    },
    {
      "cell_type": "markdown",
      "metadata": {
        "id": "Y-Mq98Ij3dda"
      },
      "source": [
        "### Load Beer Review Data"
      ]
    },
    {
      "cell_type": "code",
      "metadata": {
        "colab": {
          "base_uri": "https://localhost:8080/",
          "height": 467
        },
        "id": "uMmyfp1Q3ice",
        "outputId": "2b031bd0-3cde-4102-bb78-361333e4a5b5"
      },
      "source": [
        "data_path = \"/content/drive/My Drive/2021/6.859/Assignment4/beer_review_address_cleaned.csv\"\n",
        "beer_review_raw = pd.read_csv(data_path)\n",
        "beer_review_raw.head()"
      ],
      "execution_count": 95,
      "outputs": [
        {
          "output_type": "execute_result",
          "data": {
            "text/html": [
              "<div>\n",
              "<style scoped>\n",
              "    .dataframe tbody tr th:only-of-type {\n",
              "        vertical-align: middle;\n",
              "    }\n",
              "\n",
              "    .dataframe tbody tr th {\n",
              "        vertical-align: top;\n",
              "    }\n",
              "\n",
              "    .dataframe thead th {\n",
              "        text-align: right;\n",
              "    }\n",
              "</style>\n",
              "<table border=\"1\" class=\"dataframe\">\n",
              "  <thead>\n",
              "    <tr style=\"text-align: right;\">\n",
              "      <th></th>\n",
              "      <th>Unnamed: 0</th>\n",
              "      <th>brewery_id</th>\n",
              "      <th>brewery_name</th>\n",
              "      <th>beer_style</th>\n",
              "      <th>beer_name</th>\n",
              "      <th>beer_abv</th>\n",
              "      <th>review_overall</th>\n",
              "      <th>review_aroma</th>\n",
              "      <th>review_appearance</th>\n",
              "      <th>review_palate</th>\n",
              "      <th>review_taste</th>\n",
              "      <th>lat</th>\n",
              "      <th>long</th>\n",
              "      <th>full_address</th>\n",
              "      <th>address_3</th>\n",
              "      <th>address_2</th>\n",
              "      <th>address_1</th>\n",
              "      <th>country</th>\n",
              "    </tr>\n",
              "  </thead>\n",
              "  <tbody>\n",
              "    <tr>\n",
              "      <th>0</th>\n",
              "      <td>0</td>\n",
              "      <td>0</td>\n",
              "      <td>Vecchio Birraio</td>\n",
              "      <td>English Strong Ale</td>\n",
              "      <td>Red Moon</td>\n",
              "      <td>6.2</td>\n",
              "      <td>3.000000</td>\n",
              "      <td>2.500000</td>\n",
              "      <td>3.000000</td>\n",
              "      <td>3.000000</td>\n",
              "      <td>3.0</td>\n",
              "      <td>45.550812</td>\n",
              "      <td>11.828476</td>\n",
              "      <td>Via Caselle, 87, 35010 Campo San Martino PD, I...</td>\n",
              "      <td>Campo San Martino</td>\n",
              "      <td>Provincia di Padova</td>\n",
              "      <td>Veneto</td>\n",
              "      <td>Italy</td>\n",
              "    </tr>\n",
              "    <tr>\n",
              "      <th>1</th>\n",
              "      <td>1</td>\n",
              "      <td>0</td>\n",
              "      <td>Vecchio Birraio</td>\n",
              "      <td>Hefeweizen</td>\n",
              "      <td>Sausa Weizen</td>\n",
              "      <td>5.0</td>\n",
              "      <td>1.500000</td>\n",
              "      <td>2.000000</td>\n",
              "      <td>2.500000</td>\n",
              "      <td>1.500000</td>\n",
              "      <td>1.5</td>\n",
              "      <td>45.550812</td>\n",
              "      <td>11.828476</td>\n",
              "      <td>Via Caselle, 87, 35010 Campo San Martino PD, I...</td>\n",
              "      <td>Campo San Martino</td>\n",
              "      <td>Provincia di Padova</td>\n",
              "      <td>Veneto</td>\n",
              "      <td>Italy</td>\n",
              "    </tr>\n",
              "    <tr>\n",
              "      <th>2</th>\n",
              "      <td>2</td>\n",
              "      <td>0</td>\n",
              "      <td>Vecchio Birraio</td>\n",
              "      <td>German Pilsener</td>\n",
              "      <td>Sausa Pils</td>\n",
              "      <td>5.0</td>\n",
              "      <td>3.000000</td>\n",
              "      <td>3.000000</td>\n",
              "      <td>3.500000</td>\n",
              "      <td>2.500000</td>\n",
              "      <td>3.0</td>\n",
              "      <td>45.550812</td>\n",
              "      <td>11.828476</td>\n",
              "      <td>Via Caselle, 87, 35010 Campo San Martino PD, I...</td>\n",
              "      <td>Campo San Martino</td>\n",
              "      <td>Provincia di Padova</td>\n",
              "      <td>Veneto</td>\n",
              "      <td>Italy</td>\n",
              "    </tr>\n",
              "    <tr>\n",
              "      <th>3</th>\n",
              "      <td>3</td>\n",
              "      <td>0</td>\n",
              "      <td>Vecchio Birraio</td>\n",
              "      <td>Foreign / Export Stout</td>\n",
              "      <td>Black Horse Black Beer</td>\n",
              "      <td>6.5</td>\n",
              "      <td>3.000000</td>\n",
              "      <td>2.500000</td>\n",
              "      <td>3.000000</td>\n",
              "      <td>3.000000</td>\n",
              "      <td>3.0</td>\n",
              "      <td>45.550812</td>\n",
              "      <td>11.828476</td>\n",
              "      <td>Via Caselle, 87, 35010 Campo San Martino PD, I...</td>\n",
              "      <td>Campo San Martino</td>\n",
              "      <td>Provincia di Padova</td>\n",
              "      <td>Veneto</td>\n",
              "      <td>Italy</td>\n",
              "    </tr>\n",
              "    <tr>\n",
              "      <th>4</th>\n",
              "      <td>4</td>\n",
              "      <td>1</td>\n",
              "      <td>Caldera Brewing Company</td>\n",
              "      <td>American IPA</td>\n",
              "      <td>Caldera IPA</td>\n",
              "      <td>6.1</td>\n",
              "      <td>4.055118</td>\n",
              "      <td>3.973753</td>\n",
              "      <td>4.070866</td>\n",
              "      <td>3.925197</td>\n",
              "      <td>4.0</td>\n",
              "      <td>42.181944</td>\n",
              "      <td>-122.662778</td>\n",
              "      <td>590 Clover Ln, Ashland, OR 97520, USA</td>\n",
              "      <td>NaN</td>\n",
              "      <td>Jackson County</td>\n",
              "      <td>Oregon</td>\n",
              "      <td>United States</td>\n",
              "    </tr>\n",
              "  </tbody>\n",
              "</table>\n",
              "</div>"
            ],
            "text/plain": [
              "   Unnamed: 0  brewery_id  ... address_1        country\n",
              "0           0           0  ...    Veneto          Italy\n",
              "1           1           0  ...    Veneto          Italy\n",
              "2           2           0  ...    Veneto          Italy\n",
              "3           3           0  ...    Veneto          Italy\n",
              "4           4           1  ...    Oregon  United States\n",
              "\n",
              "[5 rows x 18 columns]"
            ]
          },
          "metadata": {
            "tags": []
          },
          "execution_count": 95
        }
      ]
    },
    {
      "cell_type": "code",
      "metadata": {
        "id": "vKF6X65R7Aln"
      },
      "source": [
        "df = beer_review_raw.copy()"
      ],
      "execution_count": 96,
      "outputs": []
    },
    {
      "cell_type": "code",
      "metadata": {
        "colab": {
          "base_uri": "https://localhost:8080/"
        },
        "id": "XujelKzq7KEL",
        "outputId": "e5b8a3ed-0bd2-4e2c-a781-62c053541d5e"
      },
      "source": [
        "df['country'].value_counts()"
      ],
      "execution_count": 97,
      "outputs": [
        {
          "output_type": "execute_result",
          "data": {
            "text/plain": [
              "United States     29471\n",
              "Canada             3038\n",
              "Germany            1828\n",
              "United Kingdom     1820\n",
              "Belgium            1504\n",
              "                  ...  \n",
              "Lesotho               1\n",
              "Haiti                 1\n",
              "Eritrea               1\n",
              "Macao                 1\n",
              "Nepal                 1\n",
              "Name: country, Length: 123, dtype: int64"
            ]
          },
          "metadata": {
            "tags": []
          },
          "execution_count": 97
        }
      ]
    },
    {
      "cell_type": "code",
      "metadata": {
        "id": "osVWMCwiC1iw"
      },
      "source": [
        "t = df['beer_style']"
      ],
      "execution_count": 98,
      "outputs": []
    },
    {
      "cell_type": "code",
      "metadata": {
        "id": "_NgDvOYpC6L-"
      },
      "source": [
        "styles = t.to_numpy().tolist()"
      ],
      "execution_count": 99,
      "outputs": []
    },
    {
      "cell_type": "code",
      "metadata": {
        "id": "8t_x8UH0DBQ9"
      },
      "source": [
        "styles = set(styles)\n"
      ],
      "execution_count": 100,
      "outputs": []
    },
    {
      "cell_type": "code",
      "metadata": {
        "id": "ljO0sxqgDZ4r"
      },
      "source": [
        "style_dict = {'Ale': {'Pale Ale':{'IPA':[],\n",
        "                                  'American':[],\n",
        "                                  'English':[],\n",
        "                                  'Belgian':[], \n",
        "                                  'Else':[]},\n",
        "                      'Dark/Black/Brown Ale':{'American':[],\n",
        "                                              'English':[],\n",
        "                                              'Belgian':[]}, \n",
        "                      'Red Ale':[],\n",
        "                      'Strong Ale':[],\n",
        "                      'Else':[]}, \n",
        "              'Lager': {'Pilsner':[],\n",
        "                        'Dark Lager':[],\n",
        "                        'Pale/Light Lager':[],\n",
        "                        'Else':[]}, \n",
        "              'Stout': {'Imperial Stout':[],\n",
        "                        'Else':[]}, \n",
        "              'Porter': {'Else':[]}, \n",
        "              'Else': {'By Country': {'American':[],\n",
        "                                      'English':[],\n",
        "                                      'German':[],\n",
        "                                      'Belgian':[],\n",
        "                                      'Else':[]},\n",
        "                       'High/Low ABV':[],\n",
        "                       'Ingredients':{'Rye':[], \n",
        "                                      'Wheat':[], 'Else':[]},\n",
        "                       \n",
        "                       'Else':[]\n",
        "                       }\n",
        "              }\n",
        "#Pilsener: type of pale lager\n",
        "for name in styles:\n",
        "  if 'Ale' in name:\n",
        "    if 'Pale' in name:\n",
        "      if 'IPA' in name or 'India Pale Ale' in name or 'Indian Pale Ale' in name:\n",
        "        style_dict['Ale']['Pale Ale']['IPA'].append(name)\n",
        "      elif 'American' in name:\n",
        "        style_dict['Ale']['Pale Ale']['American'].append(name)\n",
        "      elif 'Belgian' in name:\n",
        "        style_dict['Ale']['Pale Ale']['Belgian'].append(name)\n",
        "      elif 'English' in name:\n",
        "        style_dict['Ale']['Pale Ale']['English'].append(name)\n",
        "    elif 'Dark' in name or 'Brown' in name or 'Black' in name:\n",
        "      if 'American' in name:\n",
        "        style_dict['Ale']['Dark/Black/Brown Ale']['American'].append(name)\n",
        "      elif 'Belgian' in name:\n",
        "        style_dict['Ale']['Dark/Black/Brown Ale']['Belgian'].append(name)\n",
        "      elif 'English' in name:\n",
        "        style_dict['Ale']['Dark/Black/Brown Ale']['English'].append(name)\n",
        "    elif 'Red' in name:\n",
        "      style_dict['Ale']['Red Ale'].append(name)\n",
        "    elif 'Strong' in name:\n",
        "      style_dict['Ale']['Strong Ale'].append(name)\n",
        "    else:\n",
        "      style_dict['Ale']['Else'].append(name)\n",
        "  elif 'Lager' in name:\n",
        "    if 'Dark' in name or 'Dunkel' in name:\n",
        "      style_dict['Lager']['Dark Lager'].append(name)\n",
        "    elif 'Pale' in name or 'Light' in name or 'Helles' in name:\n",
        "      style_dict['Lager']['Pale/Light Lager'].append(name)\n",
        "    else:\n",
        "      style_dict['Lager']['Else'].append(name)\n",
        "  elif 'Stout' in name:\n",
        "    if 'Imperial' in name:\n",
        "      style_dict['Stout']['Imperial Stout'].append(name)\n",
        "    else:\n",
        "      style_dict['Stout']['Else'].append(name)\n",
        "  elif 'Porter' in name:\n",
        "    style_dict['Porter']['Else'].append(name)\n",
        "  elif 'Pilsner' in name or 'Pilsener' in name:\n",
        "    style_dict['Lager']['Pilsner'].append(name)\n",
        "  elif 'IPA' in name:\n",
        "    style_dict['Ale']['Pale Ale']['IPA'].append(name)\n",
        "  else:\n",
        "    if 'American' in name or 'California' in name:\n",
        "      style_dict['Else']['By Country']['American'].append(name)\n",
        "    elif 'English' in name:\n",
        "      style_dict['Else']['By Country']['English'].append(name)\n",
        "    elif 'German' in name or 'Gose' in name or 'Weissbier' in name or 'Altbier' in name or 'Weizenbock' in name or 'Kölsch' in name or 'Dunkelweizen' in name:\n",
        "      style_dict['Else']['By Country']['German'].append(name)\n",
        "    elif 'Quadrupel' in name or 'Tripel' in name or 'Low' in name or 'Doppelbock' in name or 'Dubbel' in name:\n",
        "      style_dict['Else']['High/Low ABV'].append(name)\n",
        "    elif 'ESB' in name:\n",
        "      style_dict['Ale']['Pale Ale']['English'].append(name)\n",
        "    elif 'Märzen' in name:\n",
        "       style_dict['Lager']['Else'].append(name)\n",
        "    elif 'Gueuze' in name or 'Faro' in name or 'Lambic' in name or 'Flanders Oud Bruin' in name:\n",
        "       style_dict['Else']['By Country']['Belgian'].append(name)\n",
        "    elif 'Maibock' in name:\n",
        "      style_dict['Lager']['Pale/Light Lager'].append(name)\n",
        "    elif 'Schwarzbier' in name:\n",
        "      style_dict['Lager']['Dark Lager'].append(name)\n",
        "    elif 'Sahti' in name:\n",
        "      style_dict['Ale']['Else'].append(name)\n",
        "    elif 'Keller Bier' in name or 'Eisbock' in name:\n",
        "      style_dict['Lager']['Else'].append(name)\n",
        "    elif 'Fruit' in name or 'Wheat' in name or 'Hefeweizen' in name or 'Weizen' in name or 'Rye' in name or 'Kristalweizen' in name or 'Kvass' in name or 'Witbier' in name or 'Herbed' in name or 'Roggenbier' in name:\n",
        "      if 'Wheat' in name or 'Weizen' in name or 'Wit' in name or 'weizen' in name:\n",
        "        style_dict['Else']['Ingredients']['Wheat'].append(name)\n",
        "      elif 'Rye' in name or 'Roggenbier' in name or 'Kvass' in name:\n",
        "        style_dict['Else']['Ingredients']['Rye'].append(name)\n",
        "      else:\n",
        "        style_dict['Else']['Ingredients']['Else'].append(name)\n",
        "    elif 'Bock' in name:\n",
        "      style_dict['Lager']['Else'].append(name)\n",
        "    elif 'Bière de Garde' in name:\n",
        "      style_dict['Ale']['Pale Ale']['Else'].append(name)\n",
        "    elif 'Happoshu' in name or 'Chile' in name:\n",
        "      style_dict['Else']['By Country']['Else'].append(name)\n",
        "    else:\n",
        "      style_dict['Else']['Else'].append(name)"
      ],
      "execution_count": 101,
      "outputs": []
    },
    {
      "cell_type": "code",
      "metadata": {
        "colab": {
          "base_uri": "https://localhost:8080/"
        },
        "id": "iRljwRFND9uA",
        "outputId": "0f2f7401-7e39-4008-9859-d3365c4c7d5e"
      },
      "source": [
        "pretty(style_dict)"
      ],
      "execution_count": 102,
      "outputs": [
        {
          "output_type": "stream",
          "text": [
            "Ale\n",
            "\tPale Ale\n",
            "\t\tIPA\n",
            "\t\t\t['English India Pale Ale (IPA)', 'Belgian IPA', 'American IPA', 'American Double / Imperial IPA']\n",
            "\t\tAmerican\n",
            "\t\t\t['American Pale Wheat Ale', 'American Pale Ale (APA)']\n",
            "\t\tEnglish\n",
            "\t\t\t['English Pale Ale', 'Extra Special / Strong Bitter (ESB)', 'English Pale Mild Ale']\n",
            "\t\tBelgian\n",
            "\t\t\t['Belgian Pale Ale', 'Belgian Strong Pale Ale']\n",
            "\t\tElse\n",
            "\t\t\t['Bière de Garde']\n",
            "\tDark/Black/Brown Ale\n",
            "\t\tAmerican\n",
            "\t\t\t['American Black Ale', 'American Dark Wheat Ale', 'American Brown Ale']\n",
            "\t\tEnglish\n",
            "\t\t\t['English Dark Mild Ale', 'English Brown Ale']\n",
            "\t\tBelgian\n",
            "\t\t\t['Belgian Dark Ale', 'Belgian Strong Dark Ale']\n",
            "\tRed Ale\n",
            "\t\t['Flanders Red Ale', 'American Amber / Red Ale', 'Irish Red Ale']\n",
            "\tStrong Ale\n",
            "\t\t['English Strong Ale', 'American Strong Ale']\n",
            "\tElse\n",
            "\t\t['Scottish Ale', 'Saison / Farmhouse Ale', 'American Blonde Ale', 'Scottish Gruit / Ancient Herbed Ale', 'Old Ale', 'Sahti', 'Cream Ale', 'American Wild Ale', 'Scotch Ale / Wee Heavy', 'Pumpkin Ale']\n",
            "Lager\n",
            "\tPilsner\n",
            "\t\t['German Pilsener', 'Czech Pilsener', 'American Double / Imperial Pilsner']\n",
            "\tDark Lager\n",
            "\t\t['Munich Dunkel Lager', 'Schwarzbier', 'Euro Dark Lager']\n",
            "\tPale/Light Lager\n",
            "\t\t['American Pale Lager', 'Munich Helles Lager', 'Euro Pale Lager', 'Light Lager', 'Maibock / Helles Bock']\n",
            "\tElse\n",
            "\t\t['Euro Strong Lager', 'American Adjunct Lager', 'Dortmunder / Export Lager', 'Bock', 'Keller Bier / Zwickel Bier', 'Vienna Lager', 'Japanese Rice Lager', 'Eisbock', 'American Amber / Red Lager', 'Märzen / Oktoberfest']\n",
            "Stout\n",
            "\tImperial Stout\n",
            "\t\t['Russian Imperial Stout', 'American Double / Imperial Stout']\n",
            "\tElse\n",
            "\t\t['Irish Dry Stout', 'Foreign / Export Stout', 'American Stout', 'Milk / Sweet Stout', 'English Stout', 'Oatmeal Stout']\n",
            "Porter\n",
            "\tElse\n",
            "\t\t['English Porter', 'American Porter', 'Baltic Porter']\n",
            "Else\n",
            "\tBy Country\n",
            "\t\tAmerican\n",
            "\t\t\t['American Malt Liquor', 'California Common / Steam Beer', 'American Barleywine']\n",
            "\t\tEnglish\n",
            "\t\t\t['English Barleywine', 'English Bitter']\n",
            "\t\tGerman\n",
            "\t\t\t['Berliner Weissbier', 'Weizenbock', 'Kölsch', 'Gose', 'Dunkelweizen', 'Altbier']\n",
            "\t\tBelgian\n",
            "\t\t\t['Gueuze', 'Flanders Oud Bruin', 'Lambic - Unblended', 'Lambic - Fruit', 'Faro']\n",
            "\t\tElse\n",
            "\t\t\t['Happoshu', 'Chile Beer']\n",
            "\tHigh/Low ABV\n",
            "\t\t['Low Alcohol Beer', 'Tripel', 'Quadrupel (Quad)', 'Doppelbock', 'Dubbel']\n",
            "\tIngredients\n",
            "\t\tRye\n",
            "\t\t\t['Rye Beer', 'Roggenbier', 'Kvass']\n",
            "\t\tWheat\n",
            "\t\t\t['Kristalweizen', 'Witbier', 'Wheatwine', 'Hefeweizen']\n",
            "\t\tElse\n",
            "\t\t\t['Fruit / Vegetable Beer', 'Herbed / Spiced Beer']\n",
            "\tElse\n",
            "\t\t['Winter Warmer', 'Rauchbier', 'Smoked Beer', 'Braggot', 'Black & Tan', 'Bière de Champagne / Bière Brut']\n"
          ],
          "name": "stdout"
        }
      ]
    },
    {
      "cell_type": "code",
      "metadata": {
        "id": "h6WffrNeEL3x"
      },
      "source": [
        "import json\n",
        "data_path = \"/content/drive/My Drive/2021/6.859/Assignment4/beer.json\"\n",
        "with open(data_path) as json_file:\n",
        "    json_data = json.load(json_file)"
      ],
      "execution_count": 103,
      "outputs": []
    },
    {
      "cell_type": "code",
      "metadata": {
        "colab": {
          "base_uri": "https://localhost:8080/"
        },
        "id": "tttByi-AWSpe",
        "outputId": "8261c5fd-460e-4586-8457-5fb80d2f9b86"
      },
      "source": [
        "count = beer_review_raw['beer_style'].value_counts()\n",
        "count_dict = count.to_dict()\n",
        "count_dict"
      ],
      "execution_count": 104,
      "outputs": [
        {
          "output_type": "execute_result",
          "data": {
            "text/plain": [
              "{'Altbier': 319,\n",
              " 'American Adjunct Lager': 782,\n",
              " 'American Amber / Red Ale': 1407,\n",
              " 'American Amber / Red Lager': 207,\n",
              " 'American Barleywine': 646,\n",
              " 'American Black Ale': 331,\n",
              " 'American Blonde Ale': 693,\n",
              " 'American Brown Ale': 620,\n",
              " 'American Dark Wheat Ale': 72,\n",
              " 'American Double / Imperial IPA': 1176,\n",
              " 'American Double / Imperial Pilsner': 119,\n",
              " 'American Double / Imperial Stout': 739,\n",
              " 'American IPA': 2211,\n",
              " 'American Malt Liquor': 119,\n",
              " 'American Pale Ale (APA)': 1890,\n",
              " 'American Pale Lager': 358,\n",
              " 'American Pale Wheat Ale': 573,\n",
              " 'American Porter': 1189,\n",
              " 'American Stout': 722,\n",
              " 'American Strong Ale': 550,\n",
              " 'American Wild Ale': 471,\n",
              " 'Baltic Porter': 263,\n",
              " 'Belgian Dark Ale': 320,\n",
              " 'Belgian IPA': 230,\n",
              " 'Belgian Pale Ale': 1019,\n",
              " 'Belgian Strong Dark Ale': 649,\n",
              " 'Belgian Strong Pale Ale': 712,\n",
              " 'Berliner Weissbier': 77,\n",
              " 'Bière de Champagne / Bière Brut': 19,\n",
              " 'Bière de Garde': 204,\n",
              " 'Black & Tan': 41,\n",
              " 'Bock': 429,\n",
              " 'Braggot': 49,\n",
              " 'California Common / Steam Beer': 145,\n",
              " 'Chile Beer': 75,\n",
              " 'Cream Ale': 176,\n",
              " 'Czech Pilsener': 504,\n",
              " 'Doppelbock': 500,\n",
              " 'Dortmunder / Export Lager': 233,\n",
              " 'Dubbel': 369,\n",
              " 'Dunkelweizen': 275,\n",
              " 'Eisbock': 58,\n",
              " 'English Barleywine': 318,\n",
              " 'English Bitter': 1212,\n",
              " 'English Brown Ale': 496,\n",
              " 'English Dark Mild Ale': 313,\n",
              " 'English India Pale Ale (IPA)': 381,\n",
              " 'English Pale Ale': 872,\n",
              " 'English Pale Mild Ale': 105,\n",
              " 'English Porter': 351,\n",
              " 'English Stout': 267,\n",
              " 'English Strong Ale': 252,\n",
              " 'Euro Dark Lager': 234,\n",
              " 'Euro Pale Lager': 1162,\n",
              " 'Euro Strong Lager': 242,\n",
              " 'Extra Special / Strong Bitter (ESB)': 625,\n",
              " 'Faro': 19,\n",
              " 'Flanders Oud Bruin': 99,\n",
              " 'Flanders Red Ale': 105,\n",
              " 'Foreign / Export Stout': 146,\n",
              " 'Fruit / Vegetable Beer': 1101,\n",
              " 'German Pilsener': 961,\n",
              " 'Gose': 26,\n",
              " 'Gueuze': 86,\n",
              " 'Happoshu': 67,\n",
              " 'Hefeweizen': 980,\n",
              " 'Herbed / Spiced Beer': 535,\n",
              " 'Irish Dry Stout': 287,\n",
              " 'Irish Red Ale': 256,\n",
              " 'Japanese Rice Lager': 43,\n",
              " 'Keller Bier / Zwickel Bier': 222,\n",
              " 'Kristalweizen': 90,\n",
              " 'Kvass': 19,\n",
              " 'Kölsch': 322,\n",
              " 'Lambic - Fruit': 198,\n",
              " 'Lambic - Unblended': 55,\n",
              " 'Light Lager': 392,\n",
              " 'Low Alcohol Beer': 118,\n",
              " 'Maibock / Helles Bock': 346,\n",
              " 'Milk / Sweet Stout': 259,\n",
              " 'Munich Dunkel Lager': 365,\n",
              " 'Munich Helles Lager': 365,\n",
              " 'Märzen / Oktoberfest': 529,\n",
              " 'Oatmeal Stout': 382,\n",
              " 'Old Ale': 271,\n",
              " 'Pumpkin Ale': 243,\n",
              " 'Quadrupel (Quad)': 164,\n",
              " 'Rauchbier': 115,\n",
              " 'Roggenbier': 36,\n",
              " 'Russian Imperial Stout': 639,\n",
              " 'Rye Beer': 271,\n",
              " 'Sahti': 18,\n",
              " 'Saison / Farmhouse Ale': 862,\n",
              " 'Schwarzbier': 288,\n",
              " 'Scotch Ale / Wee Heavy': 449,\n",
              " 'Scottish Ale': 378,\n",
              " 'Scottish Gruit / Ancient Herbed Ale': 69,\n",
              " 'Smoked Beer': 169,\n",
              " 'Tripel': 600,\n",
              " 'Vienna Lager': 267,\n",
              " 'Weizenbock': 208,\n",
              " 'Wheatwine': 98,\n",
              " 'Winter Warmer': 409,\n",
              " 'Witbier': 838}"
            ]
          },
          "metadata": {
            "tags": []
          },
          "execution_count": 104
        }
      ]
    },
    {
      "cell_type": "code",
      "metadata": {
        "colab": {
          "base_uri": "https://localhost:8080/"
        },
        "id": "u5Wt_5T_TgiS",
        "outputId": "704010c6-7a8c-4cc9-82d9-5c5e7a0b5fab"
      },
      "source": [
        "def recurse(json_data):\n",
        "  name = None\n",
        "  for key in json_data:\n",
        "    if key == 'name':\n",
        "      name = json_data[key] \n",
        "    elif key == 'children':\n",
        "      for child in json_data['children']:\n",
        "        recurse(child)\n",
        "    elif key == 'value':\n",
        "      json_data['value'] = count_dict[json_data['name']]\n",
        "      print(json_data)\n",
        "recurse(json_data)"
      ],
      "execution_count": 105,
      "outputs": [
        {
          "output_type": "stream",
          "text": [
            "{'name': 'English India Pale Ale (IPA)', 'value': 381}\n",
            "{'name': 'Belgian IPA', 'value': 230}\n",
            "{'name': 'American IPA', 'value': 2211}\n",
            "{'name': 'American Double / Imperial IPA', 'value': 1176}\n",
            "{'name': 'American Pale Wheat Ale', 'value': 573}\n",
            "{'name': 'American Pale Ale (APA)', 'value': 1890}\n",
            "{'name': 'English Pale Ale', 'value': 872}\n",
            "{'name': 'Extra Special / Strong Bitter (ESB)', 'value': 625}\n",
            "{'name': 'English Pale Mild Ale', 'value': 105}\n",
            "{'name': 'Belgian Pale Ale', 'value': 1019}\n",
            "{'name': 'Belgian Strong Pale Ale', 'value': 712}\n",
            "{'name': 'Bière de Garde', 'value': 204}\n",
            "{'name': 'American Black Ale', 'value': 331}\n",
            "{'name': 'American Dark Wheat Ale', 'value': 72}\n",
            "{'name': 'American Brown Ale', 'value': 620}\n",
            "{'name': 'English Dark Mild Ale', 'value': 313}\n",
            "{'name': 'English Brown Ale', 'value': 496}\n",
            "{'name': 'Belgian Dark Ale', 'value': 320}\n",
            "{'name': 'Belgian Strong Dark Ale', 'value': 649}\n",
            "{'name': 'Flanders Red Ale', 'value': 105}\n",
            "{'name': 'American Amber / Red Ale', 'value': 1407}\n",
            "{'name': 'Irish Red Ale', 'value': 256}\n",
            "{'name': 'English Strong Ale', 'value': 252}\n",
            "{'name': 'American Strong Ale', 'value': 550}\n",
            "{'name': 'Scottish Ale', 'value': 378}\n",
            "{'name': 'Saison / Farmhouse Ale', 'value': 862}\n",
            "{'name': 'American Blonde Ale', 'value': 693}\n",
            "{'name': 'Scottish Gruit / Ancient Herbed Ale', 'value': 69}\n",
            "{'name': 'Old Ale', 'value': 271}\n",
            "{'name': 'Sahti', 'value': 18}\n",
            "{'name': 'Cream Ale', 'value': 176}\n",
            "{'name': 'American Wild Ale', 'value': 471}\n",
            "{'name': 'Scotch Ale / Wee Heavy', 'value': 449}\n",
            "{'name': 'Pumpkin Ale', 'value': 243}\n",
            "{'name': 'German Pilsener', 'value': 961}\n",
            "{'name': 'Czech Pilsener', 'value': 504}\n",
            "{'name': 'American Double / Imperial Pilsner', 'value': 119}\n",
            "{'name': 'Munich Dunkel Lager', 'value': 365}\n",
            "{'name': 'Schwarzbier', 'value': 288}\n",
            "{'name': 'Euro Dark Lager', 'value': 234}\n",
            "{'name': 'American Pale Lager', 'value': 358}\n",
            "{'name': 'Munich Helles Lager', 'value': 365}\n",
            "{'name': 'Euro Pale Lager', 'value': 1162}\n",
            "{'name': 'Light Lager', 'value': 392}\n",
            "{'name': 'Maibock / Helles Bock', 'value': 346}\n",
            "{'name': 'Euro Strong Lager', 'value': 242}\n",
            "{'name': 'American Adjunct Lager', 'value': 782}\n",
            "{'name': 'Dortmunder / Export Lager', 'value': 233}\n",
            "{'name': 'Bock', 'value': 429}\n",
            "{'name': 'Keller Bier / Zwickel Bier', 'value': 222}\n",
            "{'name': 'Vienna Lager', 'value': 267}\n",
            "{'name': 'Japanese Rice Lager', 'value': 43}\n",
            "{'name': 'Eisbock', 'value': 58}\n",
            "{'name': 'American Amber / Red Lager', 'value': 207}\n",
            "{'name': 'Märzen / Oktoberfest', 'value': 529}\n",
            "{'name': 'Russian Imperial Stout', 'value': 639}\n",
            "{'name': 'American Double / Imperial Stout', 'value': 739}\n",
            "{'name': 'Irish Dry Stout', 'value': 287}\n",
            "{'name': 'Foreign / Export Stout', 'value': 146}\n",
            "{'name': 'American Stout', 'value': 722}\n",
            "{'name': 'Milk / Sweet Stout', 'value': 259}\n",
            "{'name': 'English Stout', 'value': 267}\n",
            "{'name': 'Oatmeal Stout', 'value': 382}\n",
            "{'name': 'English Porter', 'value': 351}\n",
            "{'name': 'American Porter', 'value': 1189}\n",
            "{'name': 'Baltic Porter', 'value': 263}\n",
            "{'name': 'American Malt Liquor', 'value': 119}\n",
            "{'name': 'California Common / Steam Beer', 'value': 145}\n",
            "{'name': 'American Barleywine', 'value': 646}\n",
            "{'name': 'English Barleywine', 'value': 318}\n",
            "{'name': 'English Bitter', 'value': 1212}\n",
            "{'name': 'Berliner Weissbier', 'value': 77}\n",
            "{'name': 'Weizenbock', 'value': 208}\n",
            "{'name': 'Kölsch', 'value': 322}\n",
            "{'name': 'Gose', 'value': 26}\n",
            "{'name': 'Dunkelweizen', 'value': 275}\n",
            "{'name': 'Altbier', 'value': 319}\n",
            "{'name': 'Gueuze', 'value': 86}\n",
            "{'name': 'Flanders Oud Bruin', 'value': 99}\n",
            "{'name': 'Lambic - Unblended', 'value': 55}\n",
            "{'name': 'Lambic - Fruit', 'value': 198}\n",
            "{'name': 'Faro', 'value': 19}\n",
            "{'name': 'Happoshu', 'value': 67}\n",
            "{'name': 'Chile Beer', 'value': 75}\n",
            "{'name': 'Low Alcohol Beer', 'value': 118}\n",
            "{'name': 'Tripel', 'value': 600}\n",
            "{'name': 'Quadrupel (Quad)', 'value': 164}\n",
            "{'name': 'Doppelbock', 'value': 500}\n",
            "{'name': 'Dubbel', 'value': 369}\n",
            "{'name': 'Rye Beer', 'value': 271}\n",
            "{'name': 'Roggenbier', 'value': 36}\n",
            "{'name': 'Kvass', 'value': 19}\n",
            "{'name': 'Kristalweizen', 'value': 90}\n",
            "{'name': 'Witbier', 'value': 838}\n",
            "{'name': 'Wheatwine', 'value': 98}\n",
            "{'name': 'Hefeweizen', 'value': 980}\n",
            "{'name': 'Fruit / Vegetable Beer', 'value': 1101}\n",
            "{'name': 'Herbed / Spiced Beer', 'value': 535}\n",
            "{'name': 'Winter Warmer', 'value': 409}\n",
            "{'name': 'Rauchbier', 'value': 115}\n",
            "{'name': 'Smoked Beer', 'value': 169}\n",
            "{'name': 'Braggot', 'value': 49}\n",
            "{'name': 'Black & Tan', 'value': 41}\n",
            "{'name': 'Bière de Champagne / Bière Brut', 'value': 19}\n"
          ],
          "name": "stdout"
        }
      ]
    },
    {
      "cell_type": "code",
      "metadata": {
        "id": "-JPYN73HThEV"
      },
      "source": [
        "dict_to_json = json.dumps(json_data)"
      ],
      "execution_count": 106,
      "outputs": []
    },
    {
      "cell_type": "code",
      "metadata": {
        "colab": {
          "base_uri": "https://localhost:8080/",
          "height": 154
        },
        "id": "i8BOVJXMVPrO",
        "outputId": "f2972096-7fb7-4341-e16f-c34faae686af"
      },
      "source": [
        "dict_to_json"
      ],
      "execution_count": 107,
      "outputs": [
        {
          "output_type": "execute_result",
          "data": {
            "application/vnd.google.colaboratory.intrinsic+json": {
              "type": "string"
            },
            "text/plain": [
              "'{\"name\": \"Beer\", \"children\": [{\"name\": \"Ale\", \"children\": [{\"name\": \"Pale Ale\", \"children\": [{\"name\": \"IPA\", \"children\": [{\"name\": \"English India Pale Ale (IPA)\", \"value\": 381}, {\"name\": \"Belgian IPA\", \"value\": 230}, {\"name\": \"American IPA\", \"value\": 2211}, {\"name\": \"American Double / Imperial IPA\", \"value\": 1176}]}, {\"name\": \"American\", \"children\": [{\"name\": \"American Pale Wheat Ale\", \"value\": 573}, {\"name\": \"American Pale Ale (APA)\", \"value\": 1890}]}, {\"name\": \"English\", \"children\": [{\"name\": \"English Pale Ale\", \"value\": 872}, {\"name\": \"Extra Special / Strong Bitter (ESB)\", \"value\": 625}, {\"name\": \"English Pale Mild Ale\", \"value\": 105}]}, {\"name\": \"Belgian\", \"children\": [{\"name\": \"Belgian Pale Ale\", \"value\": 1019}, {\"name\": \"Belgian Strong Pale Ale\", \"value\": 712}]}, {\"name\": \"Else\", \"children\": [{\"name\": \"Bi\\\\u00e8re de Garde\", \"value\": 204}]}]}, {\"name\": \"Dark/Black/Brown Ale\", \"children\": [{\"name\": \"American\", \"children\": [{\"name\": \"American Black Ale\", \"value\": 331}, {\"name\": \"American Dark Wheat Ale\", \"value\": 72}, {\"name\": \"American Brown Ale\", \"value\": 620}]}, {\"name\": \"English\", \"children\": [{\"name\": \"English Dark Mild Ale\", \"value\": 313}, {\"name\": \"English Brown Ale\", \"value\": 496}]}, {\"name\": \"Belgian\", \"children\": [{\"name\": \"Belgian Dark Ale\", \"value\": 320}, {\"name\": \"Belgian Strong Dark Ale\", \"value\": 649}]}]}, {\"name\": \"Red Ale\", \"children\": [{\"name\": \"Flanders Red Ale\", \"value\": 105}, {\"name\": \"American Amber / Red Ale\", \"value\": 1407}, {\"name\": \"Irish Red Ale\", \"value\": 256}]}, {\"name\": \"Strong Ale\", \"children\": [{\"name\": \"English Strong Ale\", \"value\": 252}, {\"name\": \"American Strong Ale\", \"value\": 550}]}, {\"name\": \"Else\", \"children\": [{\"name\": \"Scottish Ale\", \"value\": 378}, {\"name\": \"Saison / Farmhouse Ale\", \"value\": 862}, {\"name\": \"American Blonde Ale\", \"value\": 693}, {\"name\": \"Scottish Gruit / Ancient Herbed Ale\", \"value\": 69}, {\"name\": \"Old Ale\", \"value\": 271}, {\"name\": \"Sahti\", \"value\": 18}, {\"name\": \"Cream Ale\", \"value\": 176}, {\"name\": \"American Wild Ale\", \"value\": 471}, {\"name\": \"Scotch Ale / Wee Heavy\", \"value\": 449}, {\"name\": \"Pumpkin Ale\", \"value\": 243}]}]}, {\"name\": \"Lager\", \"children\": [{\"name\": \"Pilsner\", \"children\": [{\"name\": \"German Pilsener\", \"value\": 961}, {\"name\": \"Czech Pilsener\", \"value\": 504}, {\"name\": \"American Double / Imperial Pilsner\", \"value\": 119}]}, {\"name\": \"Dark Lager\", \"children\": [{\"name\": \"Munich Dunkel Lager\", \"value\": 365}, {\"name\": \"Schwarzbier\", \"value\": 288}, {\"name\": \"Euro Dark Lager\", \"value\": 234}]}, {\"name\": \"Pale/Light Lager\", \"children\": [{\"name\": \"American Pale Lager\", \"value\": 358}, {\"name\": \"Munich Helles Lager\", \"value\": 365}, {\"name\": \"Euro Pale Lager\", \"value\": 1162}, {\"name\": \"Light Lager\", \"value\": 392}, {\"name\": \"Maibock / Helles Bock\", \"value\": 346}]}, {\"name\": \"Else\", \"children\": [{\"name\": \"Euro Strong Lager\", \"value\": 242}, {\"name\": \"American Adjunct Lager\", \"value\": 782}, {\"name\": \"Dortmunder / Export Lager\", \"value\": 233}, {\"name\": \"Bock\", \"value\": 429}, {\"name\": \"Keller Bier / Zwickel Bier\", \"value\": 222}, {\"name\": \"Vienna Lager\", \"value\": 267}, {\"name\": \"Japanese Rice Lager\", \"value\": 43}, {\"name\": \"Eisbock\", \"value\": 58}, {\"name\": \"American Amber / Red Lager\", \"value\": 207}, {\"name\": \"M\\\\u00e4rzen / Oktoberfest\", \"value\": 529}]}]}, {\"name\": \"Stout\", \"children\": [{\"name\": \"Imperial Stout\", \"children\": [{\"name\": \"Russian Imperial Stout\", \"value\": 639}, {\"name\": \"American Double / Imperial Stout\", \"value\": 739}]}, {\"name\": \"Else\", \"children\": [{\"name\": \"Irish Dry Stout\", \"value\": 287}, {\"name\": \"Foreign / Export Stout\", \"value\": 146}, {\"name\": \"American Stout\", \"value\": 722}, {\"name\": \"Milk / Sweet Stout\", \"value\": 259}, {\"name\": \"English Stout\", \"value\": 267}, {\"name\": \"Oatmeal Stout\", \"value\": 382}]}]}, {\"name\": \"Porter\", \"children\": [{\"name\": \"English Porter\", \"value\": 351}, {\"name\": \"American Porter\", \"value\": 1189}, {\"name\": \"Baltic Porter\", \"value\": 263}]}, {\"name\": \"Else\", \"children\": [{\"name\": \"By Country\", \"children\": [{\"name\": \"American\", \"children\": [{\"name\": \"American Malt Liquor\", \"value\": 119}, {\"name\": \"California Common / Steam Beer\", \"value\": 145}, {\"name\": \"American Barleywine\", \"value\": 646}]}, {\"name\": \"English\", \"children\": [{\"name\": \"English Barleywine\", \"value\": 318}, {\"name\": \"English Bitter\", \"value\": 1212}]}, {\"name\": \"German\", \"children\": [{\"name\": \"Berliner Weissbier\", \"value\": 77}, {\"name\": \"Weizenbock\", \"value\": 208}, {\"name\": \"K\\\\u00f6lsch\", \"value\": 322}, {\"name\": \"Gose\", \"value\": 26}, {\"name\": \"Dunkelweizen\", \"value\": 275}, {\"name\": \"Altbier\", \"value\": 319}]}, {\"name\": \"Belgian\", \"children\": [{\"name\": \"Gueuze\", \"value\": 86}, {\"name\": \"Flanders Oud Bruin\", \"value\": 99}, {\"name\": \"Lambic - Unblended\", \"value\": 55}, {\"name\": \"Lambic - Fruit\", \"value\": 198}, {\"name\": \"Faro\", \"value\": 19}]}, {\"name\": \"Else\", \"children\": [{\"name\": \"Happoshu\", \"value\": 67}, {\"name\": \"Chile Beer\", \"value\": 75}]}]}, {\"name\": \"High/Low ABV\", \"children\": [{\"name\": \"Low Alcohol Beer\", \"value\": 118}, {\"name\": \"Tripel\", \"value\": 600}, {\"name\": \"Quadrupel (Quad)\", \"value\": 164}, {\"name\": \"Doppelbock\", \"value\": 500}, {\"name\": \"Dubbel\", \"value\": 369}]}, {\"name\": \"Ingredients\", \"children\": [{\"name\": \"Rye\", \"children\": [{\"name\": \"Rye Beer\", \"value\": 271}, {\"name\": \"Roggenbier\", \"value\": 36}, {\"name\": \"Kvass\", \"value\": 19}]}, {\"name\": \"Wheat\", \"children\": [{\"name\": \"Kristalweizen\", \"value\": 90}, {\"name\": \"Witbier\", \"value\": 838}, {\"name\": \"Wheatwine\", \"value\": 98}, {\"name\": \"Hefeweizen\", \"value\": 980}]}, {\"name\": \"Else\", \"children\": [{\"name\": \"Fruit / Vegetable Beer\", \"value\": 1101}, {\"name\": \"Herbed / Spiced Beer\", \"value\": 535}]}]}, {\"name\": \"Else\", \"children\": [{\"name\": \"Winter Warmer\", \"value\": 409}, {\"name\": \"Rauchbier\", \"value\": 115}, {\"name\": \"Smoked Beer\", \"value\": 169}, {\"name\": \"Braggot\", \"value\": 49}, {\"name\": \"Black & Tan\", \"value\": 41}, {\"name\": \"Bi\\\\u00e8re de Champagne / Bi\\\\u00e8re Brut\", \"value\": 19}]}]}]}'"
            ]
          },
          "metadata": {
            "tags": []
          },
          "execution_count": 107
        }
      ]
    }
  ]
}