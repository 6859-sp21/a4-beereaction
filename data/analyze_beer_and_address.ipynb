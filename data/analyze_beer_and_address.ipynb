{
  "nbformat": 4,
  "nbformat_minor": 0,
  "metadata": {
    "kernelspec": {
      "display_name": "Python 3",
      "language": "python",
      "name": "python3"
    },
    "language_info": {
      "codemirror_mode": {
        "name": "ipython",
        "version": 3
      },
      "file_extension": ".py",
      "mimetype": "text/x-python",
      "name": "python",
      "nbconvert_exporter": "python",
      "pygments_lexer": "ipython3",
      "version": "3.8.5"
    },
    "colab": {
      "name": "analyze_beer_and_address.ipynb",
      "provenance": [],
      "collapsed_sections": [],
      "toc_visible": true
    }
  },
  "cells": [
    {
      "cell_type": "markdown",
      "metadata": {
        "id": "dUG_p6922_Og"
      },
      "source": [
        "# Final Project: Data Cleaning"
      ]
    },
    {
      "cell_type": "markdown",
      "metadata": {
        "id": "OEUGVciZ2_Ot"
      },
      "source": [
        "## Importing Libraries"
      ]
    },
    {
      "cell_type": "code",
      "metadata": {
        "id": "FpJiiK1a2_Ou"
      },
      "source": [
        "import numpy as np\n",
        "import pandas as pd\n",
        "import matplotlib.pyplot as plt\n",
        "import seaborn as sns\n",
        "\n",
        "from datetime import *\n",
        "import calendar\n",
        "from tqdm import tqdm_notebook as tqdm"
      ],
      "execution_count": 17,
      "outputs": []
    },
    {
      "cell_type": "code",
      "metadata": {
        "colab": {
          "base_uri": "https://localhost:8080/"
        },
        "id": "AJMjO36B3XJH",
        "outputId": "88738fe1-3668-4944-eccf-1e7fdf7076e7"
      },
      "source": [
        "from google.colab import drive \n",
        "drive.mount(\"/content/drive\")"
      ],
      "execution_count": 18,
      "outputs": [
        {
          "output_type": "stream",
          "text": [
            "Drive already mounted at /content/drive; to attempt to forcibly remount, call drive.mount(\"/content/drive\", force_remount=True).\n"
          ],
          "name": "stdout"
        }
      ]
    },
    {
      "cell_type": "code",
      "metadata": {
        "id": "wyWopfBiC6AL"
      },
      "source": [
        "def pretty(d, indent=0):\n",
        "   for key, value in d.items():\n",
        "      print('\\t' * indent + str(key))\n",
        "      if isinstance(value, dict):\n",
        "         pretty(value, indent+1)\n",
        "      else:\n",
        "         print('\\t' * (indent+1) + str(value))"
      ],
      "execution_count": 19,
      "outputs": []
    },
    {
      "cell_type": "markdown",
      "metadata": {
        "id": "w5hXQ97j2_Ow"
      },
      "source": [
        "## Importing Datasets"
      ]
    },
    {
      "cell_type": "markdown",
      "metadata": {
        "id": "Y-Mq98Ij3dda"
      },
      "source": [
        "### Load Beer Review Data"
      ]
    },
    {
      "cell_type": "code",
      "metadata": {
        "colab": {
          "base_uri": "https://localhost:8080/",
          "height": 467
        },
        "id": "uMmyfp1Q3ice",
        "outputId": "adfcacbf-6309-4777-c642-f07298f8eee4"
      },
      "source": [
        "data_path = \"/content/drive/My Drive/2021/6.859/Assignment4/beer_review_address_cleaned.csv\"\n",
        "beer_review_raw = pd.read_csv(data_path)\n",
        "beer_review_raw.head()"
      ],
      "execution_count": 20,
      "outputs": [
        {
          "output_type": "execute_result",
          "data": {
            "text/html": [
              "<div>\n",
              "<style scoped>\n",
              "    .dataframe tbody tr th:only-of-type {\n",
              "        vertical-align: middle;\n",
              "    }\n",
              "\n",
              "    .dataframe tbody tr th {\n",
              "        vertical-align: top;\n",
              "    }\n",
              "\n",
              "    .dataframe thead th {\n",
              "        text-align: right;\n",
              "    }\n",
              "</style>\n",
              "<table border=\"1\" class=\"dataframe\">\n",
              "  <thead>\n",
              "    <tr style=\"text-align: right;\">\n",
              "      <th></th>\n",
              "      <th>Unnamed: 0</th>\n",
              "      <th>brewery_id</th>\n",
              "      <th>brewery_name</th>\n",
              "      <th>beer_style</th>\n",
              "      <th>beer_name</th>\n",
              "      <th>beer_abv</th>\n",
              "      <th>review_overall</th>\n",
              "      <th>review_aroma</th>\n",
              "      <th>review_appearance</th>\n",
              "      <th>review_palate</th>\n",
              "      <th>review_taste</th>\n",
              "      <th>lat</th>\n",
              "      <th>long</th>\n",
              "      <th>full_address</th>\n",
              "      <th>address_3</th>\n",
              "      <th>address_2</th>\n",
              "      <th>address_1</th>\n",
              "      <th>country</th>\n",
              "    </tr>\n",
              "  </thead>\n",
              "  <tbody>\n",
              "    <tr>\n",
              "      <th>0</th>\n",
              "      <td>0</td>\n",
              "      <td>0</td>\n",
              "      <td>Vecchio Birraio</td>\n",
              "      <td>English Strong Ale</td>\n",
              "      <td>Red Moon</td>\n",
              "      <td>6.2</td>\n",
              "      <td>3.000000</td>\n",
              "      <td>2.500000</td>\n",
              "      <td>3.000000</td>\n",
              "      <td>3.000000</td>\n",
              "      <td>3.0</td>\n",
              "      <td>45.550812</td>\n",
              "      <td>11.828476</td>\n",
              "      <td>Via Caselle, 87, 35010 Campo San Martino PD, I...</td>\n",
              "      <td>Campo San Martino</td>\n",
              "      <td>Provincia di Padova</td>\n",
              "      <td>Veneto</td>\n",
              "      <td>Italy</td>\n",
              "    </tr>\n",
              "    <tr>\n",
              "      <th>1</th>\n",
              "      <td>1</td>\n",
              "      <td>0</td>\n",
              "      <td>Vecchio Birraio</td>\n",
              "      <td>Hefeweizen</td>\n",
              "      <td>Sausa Weizen</td>\n",
              "      <td>5.0</td>\n",
              "      <td>1.500000</td>\n",
              "      <td>2.000000</td>\n",
              "      <td>2.500000</td>\n",
              "      <td>1.500000</td>\n",
              "      <td>1.5</td>\n",
              "      <td>45.550812</td>\n",
              "      <td>11.828476</td>\n",
              "      <td>Via Caselle, 87, 35010 Campo San Martino PD, I...</td>\n",
              "      <td>Campo San Martino</td>\n",
              "      <td>Provincia di Padova</td>\n",
              "      <td>Veneto</td>\n",
              "      <td>Italy</td>\n",
              "    </tr>\n",
              "    <tr>\n",
              "      <th>2</th>\n",
              "      <td>2</td>\n",
              "      <td>0</td>\n",
              "      <td>Vecchio Birraio</td>\n",
              "      <td>German Pilsener</td>\n",
              "      <td>Sausa Pils</td>\n",
              "      <td>5.0</td>\n",
              "      <td>3.000000</td>\n",
              "      <td>3.000000</td>\n",
              "      <td>3.500000</td>\n",
              "      <td>2.500000</td>\n",
              "      <td>3.0</td>\n",
              "      <td>45.550812</td>\n",
              "      <td>11.828476</td>\n",
              "      <td>Via Caselle, 87, 35010 Campo San Martino PD, I...</td>\n",
              "      <td>Campo San Martino</td>\n",
              "      <td>Provincia di Padova</td>\n",
              "      <td>Veneto</td>\n",
              "      <td>Italy</td>\n",
              "    </tr>\n",
              "    <tr>\n",
              "      <th>3</th>\n",
              "      <td>3</td>\n",
              "      <td>0</td>\n",
              "      <td>Vecchio Birraio</td>\n",
              "      <td>Foreign / Export Stout</td>\n",
              "      <td>Black Horse Black Beer</td>\n",
              "      <td>6.5</td>\n",
              "      <td>3.000000</td>\n",
              "      <td>2.500000</td>\n",
              "      <td>3.000000</td>\n",
              "      <td>3.000000</td>\n",
              "      <td>3.0</td>\n",
              "      <td>45.550812</td>\n",
              "      <td>11.828476</td>\n",
              "      <td>Via Caselle, 87, 35010 Campo San Martino PD, I...</td>\n",
              "      <td>Campo San Martino</td>\n",
              "      <td>Provincia di Padova</td>\n",
              "      <td>Veneto</td>\n",
              "      <td>Italy</td>\n",
              "    </tr>\n",
              "    <tr>\n",
              "      <th>4</th>\n",
              "      <td>4</td>\n",
              "      <td>1</td>\n",
              "      <td>Caldera Brewing Company</td>\n",
              "      <td>American IPA</td>\n",
              "      <td>Caldera IPA</td>\n",
              "      <td>6.1</td>\n",
              "      <td>4.055118</td>\n",
              "      <td>3.973753</td>\n",
              "      <td>4.070866</td>\n",
              "      <td>3.925197</td>\n",
              "      <td>4.0</td>\n",
              "      <td>42.181944</td>\n",
              "      <td>-122.662778</td>\n",
              "      <td>590 Clover Ln, Ashland, OR 97520, USA</td>\n",
              "      <td>NaN</td>\n",
              "      <td>Jackson County</td>\n",
              "      <td>Oregon</td>\n",
              "      <td>United States</td>\n",
              "    </tr>\n",
              "  </tbody>\n",
              "</table>\n",
              "</div>"
            ],
            "text/plain": [
              "   Unnamed: 0  brewery_id  ... address_1        country\n",
              "0           0           0  ...    Veneto          Italy\n",
              "1           1           0  ...    Veneto          Italy\n",
              "2           2           0  ...    Veneto          Italy\n",
              "3           3           0  ...    Veneto          Italy\n",
              "4           4           1  ...    Oregon  United States\n",
              "\n",
              "[5 rows x 18 columns]"
            ]
          },
          "metadata": {
            "tags": []
          },
          "execution_count": 20
        }
      ]
    },
    {
      "cell_type": "code",
      "metadata": {
        "id": "vKF6X65R7Aln"
      },
      "source": [
        "df = beer_review_raw.copy()"
      ],
      "execution_count": 21,
      "outputs": []
    },
    {
      "cell_type": "code",
      "metadata": {
        "colab": {
          "base_uri": "https://localhost:8080/"
        },
        "id": "XujelKzq7KEL",
        "outputId": "8c5f5506-cb08-4060-9869-c826a3558f44"
      },
      "source": [
        "df['country'].value_counts()"
      ],
      "execution_count": 22,
      "outputs": [
        {
          "output_type": "execute_result",
          "data": {
            "text/plain": [
              "United States          29471\n",
              "Canada                  3038\n",
              "Germany                 1828\n",
              "United Kingdom          1820\n",
              "Belgium                 1504\n",
              "                       ...  \n",
              "Dominica                   1\n",
              "U.S. Virgin Islands        1\n",
              "Lesotho                    1\n",
              "Nepal                      1\n",
              "Malaysia                   1\n",
              "Name: country, Length: 123, dtype: int64"
            ]
          },
          "metadata": {
            "tags": []
          },
          "execution_count": 22
        }
      ]
    },
    {
      "cell_type": "code",
      "metadata": {
        "id": "osVWMCwiC1iw"
      },
      "source": [
        "t = df['beer_style']"
      ],
      "execution_count": 23,
      "outputs": []
    },
    {
      "cell_type": "code",
      "metadata": {
        "id": "_NgDvOYpC6L-"
      },
      "source": [
        "styles = t.to_numpy().tolist()"
      ],
      "execution_count": 24,
      "outputs": []
    },
    {
      "cell_type": "code",
      "metadata": {
        "id": "8t_x8UH0DBQ9"
      },
      "source": [
        "styles = set(styles)\n"
      ],
      "execution_count": 25,
      "outputs": []
    },
    {
      "cell_type": "code",
      "metadata": {
        "id": "ljO0sxqgDZ4r"
      },
      "source": [
        "style_dict = {'Ale': {'Pale Ale':{'IPA':[],\n",
        "                                  'American':[],\n",
        "                                  'English':[],\n",
        "                                  'Belgian':[], \n",
        "                                  'Else':[]},\n",
        "                      'Dark/Black/Brown Ale':{'American':[],\n",
        "                                              'English':[],\n",
        "                                              'Belgian':[]}, \n",
        "                      'Red Ale':[],\n",
        "                      'Strong Ale':[],\n",
        "                      'Else':[]}, \n",
        "              'Lager': {'Pilsner':[],\n",
        "                        'Dark Lager':[],\n",
        "                        'Pale/Light Lager':[],\n",
        "                        'Else':[]}, \n",
        "              'Stout': {'Imperial Stout':[],\n",
        "                        'Else':[]}, \n",
        "              'Porter': {'Else':[]}, \n",
        "              'Else': {'By Country': {'American':[],\n",
        "                                      'English':[],\n",
        "                                      'German':[],\n",
        "                                      'Belgian':[],\n",
        "                                      'Else':[]},\n",
        "                       'High/Low ABV':[],\n",
        "                       'Ingredients':{'Rye':[], \n",
        "                                      'Wheat':[], 'Else':[]},\n",
        "                       \n",
        "                       'Else':[]\n",
        "                       }\n",
        "              }\n",
        "#Pilsener: type of pale lager\n",
        "for name in styles:\n",
        "  if 'Ale' in name:\n",
        "    if 'Pale' in name:\n",
        "      if 'IPA' in name or 'India Pale Ale' in name or 'Indian Pale Ale' in name:\n",
        "        style_dict['Ale']['Pale Ale']['IPA'].append(name)\n",
        "      elif 'American' in name:\n",
        "        style_dict['Ale']['Pale Ale']['American'].append(name)\n",
        "      elif 'Belgian' in name:\n",
        "        style_dict['Ale']['Pale Ale']['Belgian'].append(name)\n",
        "      elif 'English' in name:\n",
        "        style_dict['Ale']['Pale Ale']['English'].append(name)\n",
        "    elif 'Dark' in name or 'Brown' in name or 'Black' in name:\n",
        "      if 'American' in name:\n",
        "        style_dict['Ale']['Dark/Black/Brown Ale']['American'].append(name)\n",
        "      elif 'Belgian' in name:\n",
        "        style_dict['Ale']['Dark/Black/Brown Ale']['Belgian'].append(name)\n",
        "      elif 'English' in name:\n",
        "        style_dict['Ale']['Dark/Black/Brown Ale']['English'].append(name)\n",
        "    elif 'Red' in name:\n",
        "      style_dict['Ale']['Red Ale'].append(name)\n",
        "    elif 'Strong' in name:\n",
        "      style_dict['Ale']['Strong Ale'].append(name)\n",
        "    else:\n",
        "      style_dict['Ale']['Else'].append(name)\n",
        "  elif 'Lager' in name:\n",
        "    if 'Dark' in name or 'Dunkel' in name:\n",
        "      style_dict['Lager']['Dark Lager'].append(name)\n",
        "    elif 'Pale' in name or 'Light' in name or 'Helles' in name:\n",
        "      style_dict['Lager']['Pale/Light Lager'].append(name)\n",
        "    else:\n",
        "      style_dict['Lager']['Else'].append(name)\n",
        "  elif 'Stout' in name:\n",
        "    if 'Imperial' in name:\n",
        "      style_dict['Stout']['Imperial Stout'].append(name)\n",
        "    else:\n",
        "      style_dict['Stout']['Else'].append(name)\n",
        "  elif 'Porter' in name:\n",
        "    style_dict['Porter']['Else'].append(name)\n",
        "  elif 'Pilsner' in name or 'Pilsener' in name:\n",
        "    style_dict['Lager']['Pilsner'].append(name)\n",
        "  elif 'IPA' in name:\n",
        "    style_dict['Ale']['Pale Ale']['IPA'].append(name)\n",
        "  else:\n",
        "    if 'American' in name or 'California' in name:\n",
        "      style_dict['Else']['By Country']['American'].append(name)\n",
        "    elif 'English' in name:\n",
        "      style_dict['Else']['By Country']['English'].append(name)\n",
        "    elif 'German' in name or 'Gose' in name or 'Weissbier' in name or 'Altbier' in name or 'Weizenbock' in name or 'Kölsch' in name or 'Dunkelweizen' in name:\n",
        "      style_dict['Else']['By Country']['German'].append(name)\n",
        "    elif 'Quadrupel' in name or 'Tripel' in name or 'Low' in name or 'Doppelbock' in name or 'Dubbel' in name:\n",
        "      style_dict['Else']['High/Low ABV'].append(name)\n",
        "    elif 'ESB' in name:\n",
        "      style_dict['Ale']['Pale Ale']['English'].append(name)\n",
        "    elif 'Märzen' in name:\n",
        "       style_dict['Lager']['Else'].append(name)\n",
        "    elif 'Gueuze' in name or 'Faro' in name or 'Lambic' in name or 'Flanders Oud Bruin' in name:\n",
        "       style_dict['Else']['By Country']['Belgian'].append(name)\n",
        "    elif 'Maibock' in name:\n",
        "      style_dict['Lager']['Pale/Light Lager'].append(name)\n",
        "    elif 'Schwarzbier' in name:\n",
        "      style_dict['Lager']['Dark Lager'].append(name)\n",
        "    elif 'Sahti' in name:\n",
        "      style_dict['Ale']['Else'].append(name)\n",
        "    elif 'Keller Bier' in name or 'Eisbock' in name:\n",
        "      style_dict['Lager']['Else'].append(name)\n",
        "    elif 'Fruit' in name or 'Wheat' in name or 'Hefeweizen' in name or 'Weizen' in name or 'Rye' in name or 'Kristalweizen' in name or 'Kvass' in name or 'Witbier' in name or 'Herbed' in name or 'Roggenbier' in name:\n",
        "      if 'Wheat' in name or 'Weizen' in name or 'Wit' in name or 'weizen' in name:\n",
        "        style_dict['Else']['Ingredients']['Wheat'].append(name)\n",
        "      elif 'Rye' in name or 'Roggenbier' in name or 'Kvass' in name:\n",
        "        style_dict['Else']['Ingredients']['Rye'].append(name)\n",
        "      else:\n",
        "        style_dict['Else']['Ingredients']['Else'].append(name)\n",
        "    elif 'Bock' in name:\n",
        "      style_dict['Lager']['Else'].append(name)\n",
        "    elif 'Bière de Garde' in name:\n",
        "      style_dict['Ale']['Pale Ale']['Else'].append(name)\n",
        "    elif 'Happoshu' in name or 'Chile' in name:\n",
        "      style_dict['Else']['By Country']['Else'].append(name)\n",
        "    else:\n",
        "      style_dict['Else']['Else'].append(name)"
      ],
      "execution_count": 26,
      "outputs": []
    },
    {
      "cell_type": "code",
      "metadata": {
        "colab": {
          "base_uri": "https://localhost:8080/"
        },
        "id": "iRljwRFND9uA",
        "outputId": "2dc26320-1291-4399-c4bb-2e389f21d531"
      },
      "source": [
        "pretty(style_dict)"
      ],
      "execution_count": 27,
      "outputs": [
        {
          "output_type": "stream",
          "text": [
            "Ale\n",
            "\tPale Ale\n",
            "\t\tIPA\n",
            "\t\t\t['American IPA', 'Belgian IPA', 'American Double / Imperial IPA', 'English India Pale Ale (IPA)']\n",
            "\t\tAmerican\n",
            "\t\t\t['American Pale Wheat Ale', 'American Pale Ale (APA)']\n",
            "\t\tEnglish\n",
            "\t\t\t['English Pale Mild Ale', 'Extra Special / Strong Bitter (ESB)', 'English Pale Ale']\n",
            "\t\tBelgian\n",
            "\t\t\t['Belgian Strong Pale Ale', 'Belgian Pale Ale']\n",
            "\t\tElse\n",
            "\t\t\t['Bière de Garde']\n",
            "\tDark/Black/Brown Ale\n",
            "\t\tAmerican\n",
            "\t\t\t['American Black Ale', 'American Dark Wheat Ale', 'American Brown Ale']\n",
            "\t\tEnglish\n",
            "\t\t\t['English Dark Mild Ale', 'English Brown Ale']\n",
            "\t\tBelgian\n",
            "\t\t\t['Belgian Dark Ale', 'Belgian Strong Dark Ale']\n",
            "\tRed Ale\n",
            "\t\t['American Amber / Red Ale', 'Irish Red Ale', 'Flanders Red Ale']\n",
            "\tStrong Ale\n",
            "\t\t['American Strong Ale', 'English Strong Ale']\n",
            "\tElse\n",
            "\t\t['American Blonde Ale', 'Scottish Gruit / Ancient Herbed Ale', 'Pumpkin Ale', 'Cream Ale', 'Sahti', 'Scottish Ale', 'Scotch Ale / Wee Heavy', 'American Wild Ale', 'Saison / Farmhouse Ale', 'Old Ale']\n",
            "Lager\n",
            "\tPilsner\n",
            "\t\t['American Double / Imperial Pilsner', 'Czech Pilsener', 'German Pilsener']\n",
            "\tDark Lager\n",
            "\t\t['Euro Dark Lager', 'Schwarzbier', 'Munich Dunkel Lager']\n",
            "\tPale/Light Lager\n",
            "\t\t['Light Lager', 'Munich Helles Lager', 'Euro Pale Lager', 'American Pale Lager', 'Maibock / Helles Bock']\n",
            "\tElse\n",
            "\t\t['Eisbock', 'Euro Strong Lager', 'Bock', 'Vienna Lager', 'Keller Bier / Zwickel Bier', 'Japanese Rice Lager', 'American Adjunct Lager', 'Dortmunder / Export Lager', 'Märzen / Oktoberfest', 'American Amber / Red Lager']\n",
            "Stout\n",
            "\tImperial Stout\n",
            "\t\t['American Double / Imperial Stout', 'Russian Imperial Stout']\n",
            "\tElse\n",
            "\t\t['Irish Dry Stout', 'American Stout', 'Oatmeal Stout', 'English Stout', 'Milk / Sweet Stout', 'Foreign / Export Stout']\n",
            "Porter\n",
            "\tElse\n",
            "\t\t['American Porter', 'Baltic Porter', 'English Porter']\n",
            "Else\n",
            "\tBy Country\n",
            "\t\tAmerican\n",
            "\t\t\t['California Common / Steam Beer', 'American Malt Liquor', 'American Barleywine']\n",
            "\t\tEnglish\n",
            "\t\t\t['English Barleywine', 'English Bitter']\n",
            "\t\tGerman\n",
            "\t\t\t['Gose', 'Weizenbock', 'Kölsch', 'Dunkelweizen', 'Altbier', 'Berliner Weissbier']\n",
            "\t\tBelgian\n",
            "\t\t\t['Gueuze', 'Faro', 'Lambic - Unblended', 'Flanders Oud Bruin', 'Lambic - Fruit']\n",
            "\t\tElse\n",
            "\t\t\t['Chile Beer', 'Happoshu']\n",
            "\tHigh/Low ABV\n",
            "\t\t['Quadrupel (Quad)', 'Low Alcohol Beer', 'Dubbel', 'Doppelbock', 'Tripel']\n",
            "\tIngredients\n",
            "\t\tRye\n",
            "\t\t\t['Rye Beer', 'Roggenbier', 'Kvass']\n",
            "\t\tWheat\n",
            "\t\t\t['Witbier', 'Kristalweizen', 'Wheatwine', 'Hefeweizen']\n",
            "\t\tElse\n",
            "\t\t\t['Herbed / Spiced Beer', 'Fruit / Vegetable Beer']\n",
            "\tElse\n",
            "\t\t['Winter Warmer', 'Braggot', 'Smoked Beer', 'Rauchbier', 'Bière de Champagne / Bière Brut', 'Black & Tan']\n"
          ],
          "name": "stdout"
        }
      ]
    },
    {
      "cell_type": "code",
      "metadata": {
        "id": "h6WffrNeEL3x"
      },
      "source": [
        "import json\n",
        "data_path = \"/content/drive/My Drive/2021/6.859/Assignment4/beer.json\"\n",
        "with open(data_path) as json_file:\n",
        "    json_data = json.load(json_file)"
      ],
      "execution_count": 28,
      "outputs": []
    },
    {
      "cell_type": "code",
      "metadata": {
        "id": "tttByi-AWSpe"
      },
      "source": [
        "count = beer_review_raw['beer_style'].value_counts()\n",
        "count_dict = count.to_dict()\n",
        "count_dict"
      ],
      "execution_count": null,
      "outputs": []
    },
    {
      "cell_type": "code",
      "metadata": {
        "id": "u5Wt_5T_TgiS"
      },
      "source": [
        "def recurse(json_data):\n",
        "  name = None\n",
        "  for key in json_data:\n",
        "    if key == 'name':\n",
        "      name = json_data[key] \n",
        "    elif key == 'children':\n",
        "      for child in json_data['children']:\n",
        "        recurse(child)\n",
        "    elif key == 'value':\n",
        "      json_data['value'] = count_dict[json_data['name']]\n",
        "      print(json_data)\n",
        "recurse(json_data)"
      ],
      "execution_count": null,
      "outputs": []
    },
    {
      "cell_type": "code",
      "metadata": {
        "id": "-JPYN73HThEV"
      },
      "source": [
        "dict_to_json = json.dumps(json_data)"
      ],
      "execution_count": 31,
      "outputs": []
    },
    {
      "cell_type": "code",
      "metadata": {
        "colab": {
          "base_uri": "https://localhost:8080/",
          "height": 154
        },
        "id": "i8BOVJXMVPrO",
        "outputId": "e130135c-0175-4276-87d1-26b22a992110"
      },
      "source": [
        "dict_to_json"
      ],
      "execution_count": 32,
      "outputs": [
        {
          "output_type": "execute_result",
          "data": {
            "application/vnd.google.colaboratory.intrinsic+json": {
              "type": "string"
            },
            "text/plain": [
              "'{\"name\": \"Beer\", \"children\": [{\"name\": \"Ale\", \"children\": [{\"name\": \"Pale Ale\", \"children\": [{\"name\": \"IPA\", \"children\": [{\"name\": \"English India Pale Ale (IPA)\", \"value\": 381}, {\"name\": \"Belgian IPA\", \"value\": 230}, {\"name\": \"American IPA\", \"value\": 2211}, {\"name\": \"American Double / Imperial IPA\", \"value\": 1176}]}, {\"name\": \"American\", \"children\": [{\"name\": \"American Pale Wheat Ale\", \"value\": 573}, {\"name\": \"American Pale Ale (APA)\", \"value\": 1890}]}, {\"name\": \"English\", \"children\": [{\"name\": \"English Pale Ale\", \"value\": 872}, {\"name\": \"Extra Special / Strong Bitter (ESB)\", \"value\": 625}, {\"name\": \"English Pale Mild Ale\", \"value\": 105}]}, {\"name\": \"Belgian\", \"children\": [{\"name\": \"Belgian Pale Ale\", \"value\": 1019}, {\"name\": \"Belgian Strong Pale Ale\", \"value\": 712}]}, {\"name\": \"Else\", \"children\": [{\"name\": \"Bi\\\\u00e8re de Garde\", \"value\": 204}]}]}, {\"name\": \"Dark/Black/Brown Ale\", \"children\": [{\"name\": \"American\", \"children\": [{\"name\": \"American Black Ale\", \"value\": 331}, {\"name\": \"American Dark Wheat Ale\", \"value\": 72}, {\"name\": \"American Brown Ale\", \"value\": 620}]}, {\"name\": \"English\", \"children\": [{\"name\": \"English Dark Mild Ale\", \"value\": 313}, {\"name\": \"English Brown Ale\", \"value\": 496}]}, {\"name\": \"Belgian\", \"children\": [{\"name\": \"Belgian Dark Ale\", \"value\": 320}, {\"name\": \"Belgian Strong Dark Ale\", \"value\": 649}]}]}, {\"name\": \"Red Ale\", \"children\": [{\"name\": \"Flanders Red Ale\", \"value\": 105}, {\"name\": \"American Amber / Red Ale\", \"value\": 1407}, {\"name\": \"Irish Red Ale\", \"value\": 256}]}, {\"name\": \"Strong Ale\", \"children\": [{\"name\": \"English Strong Ale\", \"value\": 252}, {\"name\": \"American Strong Ale\", \"value\": 550}]}, {\"name\": \"Else\", \"children\": [{\"name\": \"Scottish Ale\", \"value\": 378}, {\"name\": \"Saison / Farmhouse Ale\", \"value\": 862}, {\"name\": \"American Blonde Ale\", \"value\": 693}, {\"name\": \"Scottish Gruit / Ancient Herbed Ale\", \"value\": 69}, {\"name\": \"Old Ale\", \"value\": 271}, {\"name\": \"Sahti\", \"value\": 18}, {\"name\": \"Cream Ale\", \"value\": 176}, {\"name\": \"American Wild Ale\", \"value\": 471}, {\"name\": \"Scotch Ale / Wee Heavy\", \"value\": 449}, {\"name\": \"Pumpkin Ale\", \"value\": 243}]}]}, {\"name\": \"Lager\", \"children\": [{\"name\": \"Pilsner\", \"children\": [{\"name\": \"German Pilsener\", \"value\": 961}, {\"name\": \"Czech Pilsener\", \"value\": 504}, {\"name\": \"American Double / Imperial Pilsner\", \"value\": 119}]}, {\"name\": \"Dark Lager\", \"children\": [{\"name\": \"Munich Dunkel Lager\", \"value\": 365}, {\"name\": \"Schwarzbier\", \"value\": 288}, {\"name\": \"Euro Dark Lager\", \"value\": 234}]}, {\"name\": \"Pale/Light Lager\", \"children\": [{\"name\": \"American Pale Lager\", \"value\": 358}, {\"name\": \"Munich Helles Lager\", \"value\": 365}, {\"name\": \"Euro Pale Lager\", \"value\": 1162}, {\"name\": \"Light Lager\", \"value\": 392}, {\"name\": \"Maibock / Helles Bock\", \"value\": 346}]}, {\"name\": \"Else\", \"children\": [{\"name\": \"Euro Strong Lager\", \"value\": 242}, {\"name\": \"American Adjunct Lager\", \"value\": 782}, {\"name\": \"Dortmunder / Export Lager\", \"value\": 233}, {\"name\": \"Bock\", \"value\": 429}, {\"name\": \"Keller Bier / Zwickel Bier\", \"value\": 222}, {\"name\": \"Vienna Lager\", \"value\": 267}, {\"name\": \"Japanese Rice Lager\", \"value\": 43}, {\"name\": \"Eisbock\", \"value\": 58}, {\"name\": \"American Amber / Red Lager\", \"value\": 207}, {\"name\": \"M\\\\u00e4rzen / Oktoberfest\", \"value\": 529}]}]}, {\"name\": \"Stout\", \"children\": [{\"name\": \"Imperial Stout\", \"children\": [{\"name\": \"Russian Imperial Stout\", \"value\": 639}, {\"name\": \"American Double / Imperial Stout\", \"value\": 739}]}, {\"name\": \"Else\", \"children\": [{\"name\": \"Irish Dry Stout\", \"value\": 287}, {\"name\": \"Foreign / Export Stout\", \"value\": 146}, {\"name\": \"American Stout\", \"value\": 722}, {\"name\": \"Milk / Sweet Stout\", \"value\": 259}, {\"name\": \"English Stout\", \"value\": 267}, {\"name\": \"Oatmeal Stout\", \"value\": 382}]}]}, {\"name\": \"Porter\", \"children\": [{\"name\": \"English Porter\", \"value\": 351}, {\"name\": \"American Porter\", \"value\": 1189}, {\"name\": \"Baltic Porter\", \"value\": 263}]}, {\"name\": \"Else\", \"children\": [{\"name\": \"By Country\", \"children\": [{\"name\": \"American\", \"children\": [{\"name\": \"American Malt Liquor\", \"value\": 119}, {\"name\": \"California Common / Steam Beer\", \"value\": 145}, {\"name\": \"American Barleywine\", \"value\": 646}]}, {\"name\": \"English\", \"children\": [{\"name\": \"English Barleywine\", \"value\": 318}, {\"name\": \"English Bitter\", \"value\": 1212}]}, {\"name\": \"German\", \"children\": [{\"name\": \"Berliner Weissbier\", \"value\": 77}, {\"name\": \"Weizenbock\", \"value\": 208}, {\"name\": \"K\\\\u00f6lsch\", \"value\": 322}, {\"name\": \"Gose\", \"value\": 26}, {\"name\": \"Dunkelweizen\", \"value\": 275}, {\"name\": \"Altbier\", \"value\": 319}]}, {\"name\": \"Belgian\", \"children\": [{\"name\": \"Gueuze\", \"value\": 86}, {\"name\": \"Flanders Oud Bruin\", \"value\": 99}, {\"name\": \"Lambic - Unblended\", \"value\": 55}, {\"name\": \"Lambic - Fruit\", \"value\": 198}, {\"name\": \"Faro\", \"value\": 19}]}, {\"name\": \"Else\", \"children\": [{\"name\": \"Happoshu\", \"value\": 67}, {\"name\": \"Chile Beer\", \"value\": 75}]}]}, {\"name\": \"High/Low ABV\", \"children\": [{\"name\": \"Low Alcohol Beer\", \"value\": 118}, {\"name\": \"Tripel\", \"value\": 600}, {\"name\": \"Quadrupel (Quad)\", \"value\": 164}, {\"name\": \"Doppelbock\", \"value\": 500}, {\"name\": \"Dubbel\", \"value\": 369}]}, {\"name\": \"Ingredients\", \"children\": [{\"name\": \"Rye\", \"children\": [{\"name\": \"Rye Beer\", \"value\": 271}, {\"name\": \"Roggenbier\", \"value\": 36}, {\"name\": \"Kvass\", \"value\": 19}]}, {\"name\": \"Wheat\", \"children\": [{\"name\": \"Kristalweizen\", \"value\": 90}, {\"name\": \"Witbier\", \"value\": 838}, {\"name\": \"Wheatwine\", \"value\": 98}, {\"name\": \"Hefeweizen\", \"value\": 980}]}, {\"name\": \"Else\", \"children\": [{\"name\": \"Fruit / Vegetable Beer\", \"value\": 1101}, {\"name\": \"Herbed / Spiced Beer\", \"value\": 535}]}]}, {\"name\": \"Else\", \"children\": [{\"name\": \"Winter Warmer\", \"value\": 409}, {\"name\": \"Rauchbier\", \"value\": 115}, {\"name\": \"Smoked Beer\", \"value\": 169}, {\"name\": \"Braggot\", \"value\": 49}, {\"name\": \"Black & Tan\", \"value\": 41}, {\"name\": \"Bi\\\\u00e8re de Champagne / Bi\\\\u00e8re Brut\", \"value\": 19}]}]}]}'"
            ]
          },
          "metadata": {
            "tags": []
          },
          "execution_count": 32
        }
      ]
    },
    {
      "cell_type": "code",
      "metadata": {
        "colab": {
          "base_uri": "https://localhost:8080/"
        },
        "id": "iSN8oar4DJRH",
        "outputId": "b099ec1a-6d5e-4198-dc68-1a78666d1caf"
      },
      "source": [
        "flattened = {}\n",
        "\n",
        "flattened['Ale'] = ['American IPA', 'Belgian IPA', 'American Double / Imperial IPA', 'English India Pale Ale (IPA)', 'American Pale Wheat Ale', 'American Pale Ale (APA)', 'English Pale Mild Ale', 'Extra Special / Strong Bitter (ESB)', 'English Pale Ale', 'Belgian Strong Pale Ale', 'Belgian Pale Ale', 'Bière de Garde', 'American Black Ale', 'American Dark Wheat Ale', 'American Brown Ale', 'English Dark Mild Ale', 'English Brown Ale', 'Belgian Dark Ale', 'Belgian Strong Dark Ale', 'American Amber / Red Ale', 'Irish Red Ale', 'Flanders Red Ale', 'American Strong Ale', 'English Strong Ale', 'American Blonde Ale', 'Scottish Gruit / Ancient Herbed Ale', 'Pumpkin Ale', 'Cream Ale', 'Sahti', 'Scottish Ale', 'Scotch Ale / Wee Heavy', 'American Wild Ale', 'Saison / Farmhouse Ale', 'Old Ale']\n",
        "flattened['Lager'] = ['American Double / Imperial Pilsner', 'Czech Pilsener', 'German Pilsener', 'Euro Dark Lager', 'Schwarzbier', 'Munich Dunkel Lager', 'Light Lager', 'Munich Helles Lager', 'Euro Pale Lager', 'American Pale Lager', 'Maibock / Helles Bock', 'Eisbock', 'Euro Strong Lager', 'Bock', 'Vienna Lager', 'Keller Bier / Zwickel Bier', 'Japanese Rice Lager', 'American Adjunct Lager', 'Dortmunder / Export Lager', 'Märzen / Oktoberfest', 'American Amber / Red Lager']\n",
        "flattened['Stout'] = ['American Double / Imperial Stout', 'Russian Imperial Stout', 'Irish Dry Stout', 'American Stout', 'Oatmeal Stout', 'English Stout', 'Milk / Sweet Stout', 'Foreign / Export Stout']\n",
        "flattened['Porter'] = ['American Porter', 'Baltic Porter', 'English Porter']\n",
        "flattened['Else'] = ['California Common / Steam Beer', 'American Malt Liquor', 'American Barleywine', 'English Barleywine', 'English Bitter', 'Gose', 'Weizenbock', 'Kölsch', 'Dunkelweizen', 'Altbier', 'Berliner Weissbier', 'Gueuze', 'Faro', 'Lambic - Unblended', 'Flanders Oud Bruin', 'Lambic - Fruit', 'Chile Beer', 'Happoshu', 'Quadrupel (Quad)', 'Low Alcohol Beer', 'Dubbel', 'Doppelbock', 'Tripel', 'Rye Beer', 'Roggenbier', 'Kvass', 'Witbier', 'Kristalweizen', 'Wheatwine', 'Hefeweizen', 'Herbed / Spiced Beer', 'Fruit / Vegetable Beer', 'Winter Warmer', 'Braggot', 'Smoked Beer', 'Rauchbier', 'Bière de Champagne / Bière Brut', 'Black & Tan']\n"
      ],
      "execution_count": 62,
      "outputs": [
        {
          "output_type": "stream",
          "text": [
            "34\n",
            "21\n",
            "8\n",
            "3\n",
            "38\n"
          ],
          "name": "stdout"
        }
      ]
    },
    {
      "cell_type": "code",
      "metadata": {
        "id": "CzS_R055DJTV"
      },
      "source": [
        "df2 = beer_review_raw.copy()\n",
        "df2['beer_class'] = None"
      ],
      "execution_count": 70,
      "outputs": []
    },
    {
      "cell_type": "code",
      "metadata": {
        "id": "9ePFwPSXDJVh"
      },
      "source": [
        "for i, row in df2.iterrows():\n",
        "  for name in flattened:\n",
        "    if row['beer_style'] in flattened[name]:\n",
        "      df2.at[i,'beer_class'] = name\n",
        "      break"
      ],
      "execution_count": 71,
      "outputs": []
    },
    {
      "cell_type": "code",
      "metadata": {
        "colab": {
          "base_uri": "https://localhost:8080/",
          "height": 808
        },
        "id": "vlEoPFoADJXr",
        "outputId": "82c3859c-654d-47c8-db93-607a7a338b40"
      },
      "source": [
        "df2"
      ],
      "execution_count": 72,
      "outputs": [
        {
          "output_type": "execute_result",
          "data": {
            "text/html": [
              "<div>\n",
              "<style scoped>\n",
              "    .dataframe tbody tr th:only-of-type {\n",
              "        vertical-align: middle;\n",
              "    }\n",
              "\n",
              "    .dataframe tbody tr th {\n",
              "        vertical-align: top;\n",
              "    }\n",
              "\n",
              "    .dataframe thead th {\n",
              "        text-align: right;\n",
              "    }\n",
              "</style>\n",
              "<table border=\"1\" class=\"dataframe\">\n",
              "  <thead>\n",
              "    <tr style=\"text-align: right;\">\n",
              "      <th></th>\n",
              "      <th>Unnamed: 0</th>\n",
              "      <th>brewery_id</th>\n",
              "      <th>brewery_name</th>\n",
              "      <th>beer_style</th>\n",
              "      <th>beer_name</th>\n",
              "      <th>beer_abv</th>\n",
              "      <th>review_overall</th>\n",
              "      <th>review_aroma</th>\n",
              "      <th>review_appearance</th>\n",
              "      <th>review_palate</th>\n",
              "      <th>review_taste</th>\n",
              "      <th>lat</th>\n",
              "      <th>long</th>\n",
              "      <th>full_address</th>\n",
              "      <th>address_3</th>\n",
              "      <th>address_2</th>\n",
              "      <th>address_1</th>\n",
              "      <th>country</th>\n",
              "      <th>beer_class</th>\n",
              "    </tr>\n",
              "  </thead>\n",
              "  <tbody>\n",
              "    <tr>\n",
              "      <th>0</th>\n",
              "      <td>0</td>\n",
              "      <td>0</td>\n",
              "      <td>Vecchio Birraio</td>\n",
              "      <td>English Strong Ale</td>\n",
              "      <td>Red Moon</td>\n",
              "      <td>6.2</td>\n",
              "      <td>3.000000</td>\n",
              "      <td>2.500000</td>\n",
              "      <td>3.000000</td>\n",
              "      <td>3.000000</td>\n",
              "      <td>3.000000</td>\n",
              "      <td>45.550812</td>\n",
              "      <td>11.828476</td>\n",
              "      <td>Via Caselle, 87, 35010 Campo San Martino PD, I...</td>\n",
              "      <td>Campo San Martino</td>\n",
              "      <td>Provincia di Padova</td>\n",
              "      <td>Veneto</td>\n",
              "      <td>Italy</td>\n",
              "      <td>Ale</td>\n",
              "    </tr>\n",
              "    <tr>\n",
              "      <th>1</th>\n",
              "      <td>1</td>\n",
              "      <td>0</td>\n",
              "      <td>Vecchio Birraio</td>\n",
              "      <td>Hefeweizen</td>\n",
              "      <td>Sausa Weizen</td>\n",
              "      <td>5.0</td>\n",
              "      <td>1.500000</td>\n",
              "      <td>2.000000</td>\n",
              "      <td>2.500000</td>\n",
              "      <td>1.500000</td>\n",
              "      <td>1.500000</td>\n",
              "      <td>45.550812</td>\n",
              "      <td>11.828476</td>\n",
              "      <td>Via Caselle, 87, 35010 Campo San Martino PD, I...</td>\n",
              "      <td>Campo San Martino</td>\n",
              "      <td>Provincia di Padova</td>\n",
              "      <td>Veneto</td>\n",
              "      <td>Italy</td>\n",
              "      <td>Else</td>\n",
              "    </tr>\n",
              "    <tr>\n",
              "      <th>2</th>\n",
              "      <td>2</td>\n",
              "      <td>0</td>\n",
              "      <td>Vecchio Birraio</td>\n",
              "      <td>German Pilsener</td>\n",
              "      <td>Sausa Pils</td>\n",
              "      <td>5.0</td>\n",
              "      <td>3.000000</td>\n",
              "      <td>3.000000</td>\n",
              "      <td>3.500000</td>\n",
              "      <td>2.500000</td>\n",
              "      <td>3.000000</td>\n",
              "      <td>45.550812</td>\n",
              "      <td>11.828476</td>\n",
              "      <td>Via Caselle, 87, 35010 Campo San Martino PD, I...</td>\n",
              "      <td>Campo San Martino</td>\n",
              "      <td>Provincia di Padova</td>\n",
              "      <td>Veneto</td>\n",
              "      <td>Italy</td>\n",
              "      <td>Lager</td>\n",
              "    </tr>\n",
              "    <tr>\n",
              "      <th>3</th>\n",
              "      <td>3</td>\n",
              "      <td>0</td>\n",
              "      <td>Vecchio Birraio</td>\n",
              "      <td>Foreign / Export Stout</td>\n",
              "      <td>Black Horse Black Beer</td>\n",
              "      <td>6.5</td>\n",
              "      <td>3.000000</td>\n",
              "      <td>2.500000</td>\n",
              "      <td>3.000000</td>\n",
              "      <td>3.000000</td>\n",
              "      <td>3.000000</td>\n",
              "      <td>45.550812</td>\n",
              "      <td>11.828476</td>\n",
              "      <td>Via Caselle, 87, 35010 Campo San Martino PD, I...</td>\n",
              "      <td>Campo San Martino</td>\n",
              "      <td>Provincia di Padova</td>\n",
              "      <td>Veneto</td>\n",
              "      <td>Italy</td>\n",
              "      <td>Stout</td>\n",
              "    </tr>\n",
              "    <tr>\n",
              "      <th>4</th>\n",
              "      <td>4</td>\n",
              "      <td>1</td>\n",
              "      <td>Caldera Brewing Company</td>\n",
              "      <td>American IPA</td>\n",
              "      <td>Caldera IPA</td>\n",
              "      <td>6.1</td>\n",
              "      <td>4.055118</td>\n",
              "      <td>3.973753</td>\n",
              "      <td>4.070866</td>\n",
              "      <td>3.925197</td>\n",
              "      <td>4.000000</td>\n",
              "      <td>42.181944</td>\n",
              "      <td>-122.662778</td>\n",
              "      <td>590 Clover Ln, Ashland, OR 97520, USA</td>\n",
              "      <td>NaN</td>\n",
              "      <td>Jackson County</td>\n",
              "      <td>Oregon</td>\n",
              "      <td>United States</td>\n",
              "      <td>Ale</td>\n",
              "    </tr>\n",
              "    <tr>\n",
              "      <th>...</th>\n",
              "      <td>...</td>\n",
              "      <td>...</td>\n",
              "      <td>...</td>\n",
              "      <td>...</td>\n",
              "      <td>...</td>\n",
              "      <td>...</td>\n",
              "      <td>...</td>\n",
              "      <td>...</td>\n",
              "      <td>...</td>\n",
              "      <td>...</td>\n",
              "      <td>...</td>\n",
              "      <td>...</td>\n",
              "      <td>...</td>\n",
              "      <td>...</td>\n",
              "      <td>...</td>\n",
              "      <td>...</td>\n",
              "      <td>...</td>\n",
              "      <td>...</td>\n",
              "      <td>...</td>\n",
              "    </tr>\n",
              "    <tr>\n",
              "      <th>43131</th>\n",
              "      <td>44064</td>\n",
              "      <td>5152</td>\n",
              "      <td>Wissey Valley Brewery</td>\n",
              "      <td>English Pale Ale</td>\n",
              "      <td>Stoked Up</td>\n",
              "      <td>4.7</td>\n",
              "      <td>2.000000</td>\n",
              "      <td>3.000000</td>\n",
              "      <td>4.000000</td>\n",
              "      <td>2.500000</td>\n",
              "      <td>2.500000</td>\n",
              "      <td>52.559611</td>\n",
              "      <td>0.579850</td>\n",
              "      <td>River Wissey, United Kingdom</td>\n",
              "      <td>NaN</td>\n",
              "      <td>Norfolk</td>\n",
              "      <td>England</td>\n",
              "      <td>United Kingdom</td>\n",
              "      <td>Ale</td>\n",
              "    </tr>\n",
              "    <tr>\n",
              "      <th>43132</th>\n",
              "      <td>44065</td>\n",
              "      <td>5152</td>\n",
              "      <td>Wissey Valley Brewery</td>\n",
              "      <td>English Porter</td>\n",
              "      <td>Cherry Porter</td>\n",
              "      <td>4.7</td>\n",
              "      <td>3.965517</td>\n",
              "      <td>3.775862</td>\n",
              "      <td>4.086207</td>\n",
              "      <td>3.862069</td>\n",
              "      <td>3.931034</td>\n",
              "      <td>52.559611</td>\n",
              "      <td>0.579850</td>\n",
              "      <td>River Wissey, United Kingdom</td>\n",
              "      <td>NaN</td>\n",
              "      <td>Norfolk</td>\n",
              "      <td>England</td>\n",
              "      <td>United Kingdom</td>\n",
              "      <td>Porter</td>\n",
              "    </tr>\n",
              "    <tr>\n",
              "      <th>43133</th>\n",
              "      <td>44066</td>\n",
              "      <td>5152</td>\n",
              "      <td>Wissey Valley Brewery</td>\n",
              "      <td>English Stout</td>\n",
              "      <td>Cherry Pickers Stout</td>\n",
              "      <td>6.0</td>\n",
              "      <td>2.500000</td>\n",
              "      <td>3.000000</td>\n",
              "      <td>4.000000</td>\n",
              "      <td>3.000000</td>\n",
              "      <td>4.000000</td>\n",
              "      <td>52.559611</td>\n",
              "      <td>0.579850</td>\n",
              "      <td>River Wissey, United Kingdom</td>\n",
              "      <td>NaN</td>\n",
              "      <td>Norfolk</td>\n",
              "      <td>England</td>\n",
              "      <td>United Kingdom</td>\n",
              "      <td>Stout</td>\n",
              "    </tr>\n",
              "    <tr>\n",
              "      <th>43134</th>\n",
              "      <td>44073</td>\n",
              "      <td>5154</td>\n",
              "      <td>Georg Meinel Bierbrauerei KG</td>\n",
              "      <td>Weizenbock</td>\n",
              "      <td>Meinel Weizenbock</td>\n",
              "      <td>6.5</td>\n",
              "      <td>3.500000</td>\n",
              "      <td>4.000000</td>\n",
              "      <td>3.500000</td>\n",
              "      <td>3.500000</td>\n",
              "      <td>4.000000</td>\n",
              "      <td>50.326251</td>\n",
              "      <td>11.917190</td>\n",
              "      <td>Alte Plauener Str. 24, 95028 Hof, Germany</td>\n",
              "      <td>NaN</td>\n",
              "      <td>Oberfranken</td>\n",
              "      <td>Bayern</td>\n",
              "      <td>Germany</td>\n",
              "      <td>Else</td>\n",
              "    </tr>\n",
              "    <tr>\n",
              "      <th>43135</th>\n",
              "      <td>44074</td>\n",
              "      <td>5154</td>\n",
              "      <td>Georg Meinel Bierbrauerei KG</td>\n",
              "      <td>Rauchbier</td>\n",
              "      <td>Mephisto</td>\n",
              "      <td>5.2</td>\n",
              "      <td>3.500000</td>\n",
              "      <td>3.500000</td>\n",
              "      <td>4.000000</td>\n",
              "      <td>3.500000</td>\n",
              "      <td>3.500000</td>\n",
              "      <td>50.326251</td>\n",
              "      <td>11.917190</td>\n",
              "      <td>Alte Plauener Str. 24, 95028 Hof, Germany</td>\n",
              "      <td>NaN</td>\n",
              "      <td>Oberfranken</td>\n",
              "      <td>Bayern</td>\n",
              "      <td>Germany</td>\n",
              "      <td>Else</td>\n",
              "    </tr>\n",
              "  </tbody>\n",
              "</table>\n",
              "<p>43136 rows × 19 columns</p>\n",
              "</div>"
            ],
            "text/plain": [
              "       Unnamed: 0  brewery_id  ...         country beer_class\n",
              "0               0           0  ...           Italy        Ale\n",
              "1               1           0  ...           Italy       Else\n",
              "2               2           0  ...           Italy      Lager\n",
              "3               3           0  ...           Italy      Stout\n",
              "4               4           1  ...   United States        Ale\n",
              "...           ...         ...  ...             ...        ...\n",
              "43131       44064        5152  ...  United Kingdom        Ale\n",
              "43132       44065        5152  ...  United Kingdom     Porter\n",
              "43133       44066        5152  ...  United Kingdom      Stout\n",
              "43134       44073        5154  ...         Germany       Else\n",
              "43135       44074        5154  ...         Germany       Else\n",
              "\n",
              "[43136 rows x 19 columns]"
            ]
          },
          "metadata": {
            "tags": []
          },
          "execution_count": 72
        }
      ]
    },
    {
      "cell_type": "code",
      "metadata": {
        "colab": {
          "base_uri": "https://localhost:8080/",
          "height": 17
        },
        "id": "MHR2xHvuDJZ3",
        "outputId": "db3fc7e4-ac0d-420a-f1b6-26fd40dd7000"
      },
      "source": [
        "from google.colab import files\n",
        "df2.to_csv('beer_review_address_cleaned_class.csv') \n",
        "files.download('beer_review_address_cleaned_class.csv')"
      ],
      "execution_count": 73,
      "outputs": [
        {
          "output_type": "display_data",
          "data": {
            "application/javascript": [
              "\n",
              "    async function download(id, filename, size) {\n",
              "      if (!google.colab.kernel.accessAllowed) {\n",
              "        return;\n",
              "      }\n",
              "      const div = document.createElement('div');\n",
              "      const label = document.createElement('label');\n",
              "      label.textContent = `Downloading \"${filename}\": `;\n",
              "      div.appendChild(label);\n",
              "      const progress = document.createElement('progress');\n",
              "      progress.max = size;\n",
              "      div.appendChild(progress);\n",
              "      document.body.appendChild(div);\n",
              "\n",
              "      const buffers = [];\n",
              "      let downloaded = 0;\n",
              "\n",
              "      const channel = await google.colab.kernel.comms.open(id);\n",
              "      // Send a message to notify the kernel that we're ready.\n",
              "      channel.send({})\n",
              "\n",
              "      for await (const message of channel.messages) {\n",
              "        // Send a message to notify the kernel that we're ready.\n",
              "        channel.send({})\n",
              "        if (message.buffers) {\n",
              "          for (const buffer of message.buffers) {\n",
              "            buffers.push(buffer);\n",
              "            downloaded += buffer.byteLength;\n",
              "            progress.value = downloaded;\n",
              "          }\n",
              "        }\n",
              "      }\n",
              "      const blob = new Blob(buffers, {type: 'application/binary'});\n",
              "      const a = document.createElement('a');\n",
              "      a.href = window.URL.createObjectURL(blob);\n",
              "      a.download = filename;\n",
              "      div.appendChild(a);\n",
              "      a.click();\n",
              "      div.remove();\n",
              "    }\n",
              "  "
            ],
            "text/plain": [
              "<IPython.core.display.Javascript object>"
            ]
          },
          "metadata": {
            "tags": []
          }
        },
        {
          "output_type": "display_data",
          "data": {
            "application/javascript": [
              "download(\"download_3a5ef986-6ef2-470a-9141-cd5df2eeefd2\", \"beer_review_address_cleaned_class.csv\", 10781498)"
            ],
            "text/plain": [
              "<IPython.core.display.Javascript object>"
            ]
          },
          "metadata": {
            "tags": []
          }
        }
      ]
    },
    {
      "cell_type": "code",
      "metadata": {
        "id": "PQ3zLOy-DJcK"
      },
      "source": [
        ""
      ],
      "execution_count": null,
      "outputs": []
    }
  ]
}